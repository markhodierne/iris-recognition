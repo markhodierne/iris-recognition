{
 "cells": [
  {
   "cell_type": "markdown",
   "metadata": {
    "id": "ls3RZpE-G7uU"
   },
   "source": [
    "# **Species Classification — Iris Flower Dataset**"
   ]
  },
  {
   "cell_type": "markdown",
   "metadata": {
    "id": "MwtN8nxDEXHM"
   },
   "source": [
    "Mark Hodierne  \n",
    "ML Project Portfolio  \n",
    "7th March 2024  \n",
    "https://github.com/markhodierne/iris-recognition  \n",
    "https://www.linkedin.com/in/markhodierne  \n"
   ]
  },
  {
   "cell_type": "markdown",
   "metadata": {
    "id": "eAN7AM_6HQMl"
   },
   "source": [
    "---\n",
    "\n",
    "#### ***Status: PROJECT COMPLETE***\n",
    "\n",
    "1. Neural Network built.\n",
    "1. Optimization - experimented with size of hidden layer, learning rates, number of epochs and batch size.\n",
    "3. Performance of model optimizations analyzed and opportunities for further improvements identified.\n",
    "4. Conclusions complete, including summary of learning.\n",
    "\n"
   ]
  },
  {
   "cell_type": "markdown",
   "metadata": {
    "id": "-GorZCdSHjYa"
   },
   "source": [
    "---\n",
    "\n",
    "## **1. About this project**\n",
    "\n",
    "The Iris flower data set or Fisher's Iris data set is a multivariate data set used and made famous by the British statistician and biologist Ronald Fisher in his 1936 paper \"The use of multiple measurements in taxonomic problems as an example of linear discriminant analysis.\" (1)\n",
    "\n",
    "The data set consists of 50 samples from each of three species of Iris (Iris setosa, Iris virginica and Iris versicolor). Four features were measured from each sample: the length and the width of the sepals and petals, in centimeters.\n",
    "\n",
    "The goal of this project is to build a simple neural network that will classify samples correctly based on these four features.\n",
    "\n",
    "**References:**\n",
    "\n",
    "1. R. A. Fisher (1936). \"The use of multiple measurements in taxonomic problems\". Annals of Eugenics. 7 (2): 179-188\n",
    "\n"
   ]
  },
  {
   "cell_type": "markdown",
   "metadata": {},
   "source": [
    "---\n",
    "\n",
    "## **2. Implementation approach: building a neural network from first principles**\n",
    "\n",
    "This notebook demonstrates, step by step, how a simple neural network can be built and trained **from first principles** (without using deep learning libraries) to classify species of Iris flower based on the four features.\n",
    "\n",
    "**Objectives:**  \n",
    "- Build every part of the network by hand: weight initialization, activation functions, forward and backward passes, and gradient descent.\n",
    "- Show and explain all the maths underpinning the process.\n",
    "- Visualize and interpret results at each step.\n",
    "- Explore how changing model parameters affects performance.\n",
    "\n",
    "> All equations are shown explicitly, so you can truly see \"under the hood\" of a neural network."
   ]
  },
  {
   "cell_type": "markdown",
   "metadata": {},
   "source": [
    "#### **Network architecture**  \n",
    "\n",
    "The simple neural network implemented is a perceptron model with one hidden layer:"
   ]
  },
  {
   "cell_type": "markdown",
   "metadata": {
    "id": "Swzd_12cxp6V"
   },
   "source": [
    "![](https://drive.google.com/uc?export=view&id=1mbRPZHaJTkO9djR6l1NY7WBWSUOWPbQL)"
   ]
  },
  {
   "cell_type": "markdown",
   "metadata": {},
   "source": [
    "- Input Layer: 4 units, one for each feature of the Iris dataset (sepal length, sepal width, petal length, petal width).\n",
    "- Hidden Layer: Starts with 6 units (this is a tunable hyperparameter; later experimentation will find the optimal number for this problem).\n",
    "- Output Layer: 3 units, each representing one of the Iris species.\n",
    "\n",
    "**Activation functions:**\n",
    "\n",
    "- **ReLU** (Rectified Linear Unit) for the hidden layer:  \n",
    "  $\\mathrm{ReLU}(x) = \\max(0, x)$\n",
    "\n",
    "- **Softmax** for the output layer:  \n",
    "  $\\mathrm{softmax}(z_j) = \\dfrac{e^{z_j}}{\\sum_{l=1}^{k} e^{z_l}}$,  \n",
    "  where $k$ is the number of classes."
   ]
  },
  {
   "cell_type": "markdown",
   "metadata": {},
   "source": [
    "#### **Data flow and matrix shapes**"
   ]
  },
  {
   "cell_type": "markdown",
   "metadata": {},
   "source": [
    "![](https://drive.google.com/uc?export=view&id=1jrJJNIYagcRqipLiY8ehy6fpDE7re0gw)"
   ]
  },
  {
   "cell_type": "markdown",
   "metadata": {},
   "source": [
    "If $n$ is the number of samples and $h$ is the size of the hidden layer:\n",
    "\n",
    "- Input matrix: $\\mathbf{a}_0 \\in \\mathbb{R}^{n \\times 4}$\n",
    "- First layer weights: $\\mathbf{w}_1 \\in \\mathbb{R}^{4 \\times h}$\n",
    "- First layer biases: $\\mathbf{b}_1 \\in \\mathbb{R}^{1 \\times h}$\n",
    "- Hidden activations: $\\mathbf{a}_1 \\in \\mathbb{R}^{n \\times h}$\n",
    "- Second layer weights: $\\mathbf{w}_2 \\in \\mathbb{R}^{h \\times 3}$\n",
    "- Second layer biases: $\\mathbf{b}_2 \\in \\mathbb{R}^{1 \\times 3}$\n",
    "- Output probabilities: $\\mathbf{a}_2 \\in \\mathbb{R}^{n \\times 3}$"
   ]
  },
  {
   "cell_type": "markdown",
   "metadata": {},
   "source": [
    "#### **Dataset characteristics and evaluation strategy**\n",
    "\n",
    "- The Iris Dataset is extremely small - containing only 150 samples:\n",
    "  - 80% of the data is used for training (no validation dataset used)\n",
    "  - 20% of the data is reserved as a test set."
   ]
  },
  {
   "cell_type": "markdown",
   "metadata": {},
   "source": [
    "#### **Deployment plan**\n",
    "\n",
    "- Once the model is trained and optimized, it can be **packaged in a Docker image** alongside a **FastAPI application** to serve predictions.\n",
    "- The container can be deployed to a production environment (e.g., bare metal server), using a process manager (like `systemd`) or container orchestration for reliability.\n",
    "- Observability (logging and metrics) will be integrated for monitoring model usage and health."
   ]
  },
  {
   "cell_type": "markdown",
   "metadata": {},
   "source": [
    "Full code is included in the GitHub repository - https://github.com/markhodierne/iris-recognition."
   ]
  },
  {
   "cell_type": "markdown",
   "metadata": {
    "id": "txw4hkDYH5c9"
   },
   "source": [
    "---\n",
    "## **3. Imports and random seed**\n",
    "\n",
    "Only the following core scientific Python libraries are used:\n",
    "- **NumPy** for array and matrix operations\n",
    "- **Pandas** for data handling\n",
    "- **Matplotlib** for plotting and visualization\n",
    "- **Scikit-learn** (only for data loading, train-test splitting, and EDA)\n",
    "\n",
    "A fixed random seed ensures all results are reproducible."
   ]
  },
  {
   "cell_type": "code",
   "execution_count": 1,
   "metadata": {
    "executionInfo": {
     "elapsed": 6580,
     "status": "ok",
     "timestamp": 1747404562593,
     "user": {
      "displayName": "Mark Hodierne",
      "userId": "10268299263793004126"
     },
     "user_tz": -60
    },
    "id": "0Jofp0V2yyVV"
   },
   "outputs": [],
   "source": [
    "# Import libraries\n",
    "import matplotlib.pyplot as plt\n",
    "import numpy as np\n",
    "import pandas as pd\n",
    "\n",
    "from sklearn import datasets\n",
    "from sklearn.cluster import KMeans\n",
    "from sklearn.model_selection import train_test_split\n",
    "\n",
    "# Set global random seed for reproducibility\n",
    "np.random.seed(42)\n"
   ]
  },
  {
   "cell_type": "markdown",
   "metadata": {},
   "source": [
    "---\n",
    "## **4. Loading and preprocessing the Iris dataset**\n",
    "\n",
    "The **Iris dataset** consists of 150 flower samples from three different species (*Setosa*, *Versicolor*, *Virginica*).  \n",
    "Each sample has four features:\n",
    "- sepal length\n",
    "- sepal width\n",
    "- petal length\n",
    "- petal width\n",
    "\n",
    "We will:\n",
    "1. Load the data\n",
    "2. Prepare the feature matrix $\\mathbf{X}$ and one-hot encoded labels $\\mathbf{Y}$\n",
    "3. Split the data into training and test sets\n",
    "\n",
    "**Mathematical notation:**\n",
    "Let $n$ be the number of samples, $d$ the number of features (here $d=4$), and $k$ the number of classes (here $k=3$):\n",
    "- $\\mathbf{X} \\in \\mathbb{R}^{n \\times d}$\n",
    "- $\\mathbf{Y} \\in \\{0,1\\}^{n \\times k}$"
   ]
  },
  {
   "cell_type": "code",
   "execution_count": null,
   "metadata": {},
   "outputs": [],
   "source": [
    "# Load data and preprocess\n",
    "iris = datasets.load_iris()\n",
    "iris_df = pd.DataFrame(\n",
    "    data=np.column_stack([iris.data, iris.target]),\n",
    "    columns=['sepal_len', 'sepal_wid', 'petal_len', 'petal_wid', 'class']\n",
    ")\n",
    "iris_df.dropna(how=\"all\", inplace=True)\n",
    "\n",
    "# Create a features matrix X with dimensions (150, 4)\n",
    "X = iris_df[['sepal_len', 'sepal_wid', 'petal_len', 'petal_wid']].values\n",
    "\n",
    "# Create a labels matrix y with dimensions (150, 3)\n",
    "y = pd.get_dummies(iris_df['class']).to_numpy()\n",
    "\n",
    "# Create train and test datasets\n",
    "X_train, X_test, y_train, y_test = train_test_split(\n",
    "    X, y, test_size=0.2, stratify=y, random_state=21\n",
    ")\n",
    "\n",
    "# Modify datasets to single sample for testing\n",
    "#X_train = X_train[0].reshape(1, -1)\n",
    "#y_train = y_train[0].reshape(1, -1)\n",
    "\n",
    "# Modify datasets to first 4 samples for testing\n",
    "#X_train = X_train[:5, :]\n",
    "#y_train = y_train[:5, :]"
   ]
  },
  {
   "cell_type": "markdown",
   "metadata": {},
   "source": [
    "---\n",
    "## **5. Data exploration**\n",
    "\n",
    "inspect the first few rows of the data and its structure."
   ]
  },
  {
   "cell_type": "code",
   "execution_count": 3,
   "metadata": {
    "colab": {
     "base_uri": "https://localhost:8080/"
    },
    "executionInfo": {
     "elapsed": 104,
     "status": "ok",
     "timestamp": 1747404573517,
     "user": {
      "displayName": "Mark Hodierne",
      "userId": "10268299263793004126"
     },
     "user_tz": -60
    },
    "id": "YNk66Itn2eaU",
    "outputId": "967d7ae7-f700-4a35-ebe2-217df9164c12"
   },
   "outputs": [
    {
     "name": "stdout",
     "output_type": "stream",
     "text": [
      "   sepal_len  sepal_wid  petal_len  petal_wid  class\n",
      "0        5.1        3.5        1.4        0.2    0.0\n",
      "1        4.9        3.0        1.4        0.2    0.0\n",
      "2        4.7        3.2        1.3        0.2    0.0\n",
      "3        4.6        3.1        1.5        0.2    0.0\n",
      "4        5.0        3.6        1.4        0.2    0.0\n",
      "<class 'pandas.core.frame.DataFrame'>\n",
      "RangeIndex: 150 entries, 0 to 149\n",
      "Data columns (total 5 columns):\n",
      " #   Column     Non-Null Count  Dtype  \n",
      "---  ------     --------------  -----  \n",
      " 0   sepal_len  150 non-null    float64\n",
      " 1   sepal_wid  150 non-null    float64\n",
      " 2   petal_len  150 non-null    float64\n",
      " 3   petal_wid  150 non-null    float64\n",
      " 4   class      150 non-null    float64\n",
      "dtypes: float64(5)\n",
      "memory usage: 6.0 KB\n",
      "None\n"
     ]
    }
   ],
   "source": [
    "# Data exploration (optional)\n",
    "print(iris_df.head())\n",
    "print(iris_df.info())"
   ]
  },
  {
   "cell_type": "markdown",
   "metadata": {
    "id": "Qjc02R8OM0AS"
   },
   "source": [
    "---\n",
    "## **6. Exploratory visualization: K-Means clustering**\n",
    "\n",
    "To visualize the structure of the Iris dataset, we perform K-Means clustering. This analysis shows that one flower species is linearly separable from the other two, but the other two are not linearly separable from each other."
   ]
  },
  {
   "cell_type": "code",
   "execution_count": null,
   "metadata": {
    "colab": {
     "base_uri": "https://localhost:8080/",
     "height": 564
    },
    "id": "ru-JgMRfK8Yj",
    "outputId": "80930c49-7139-4d33-f705-50640aac8a4e"
   },
   "outputs": [
    {
     "data": {
      "image/png": "[encoded data removed]",
      "text/plain": [
       "<Figure size 800x600 with 1 Axes>"
      ]
     },
     "metadata": {},
     "output_type": "display_data"
    }
   ],
   "source": [
    "# K-means clustering for EDA (optional)\n",
    "k = 3\n",
    "kmeans = KMeans(n_clusters=k, random_state=42)\n",
    "kmeans.fit(X)\n",
    "cluster_centers = kmeans.cluster_centers_\n",
    "labels = kmeans.labels_\n",
    "\n",
    "plt.figure(figsize=(8, 6))\n",
    "\n",
    "for i in range(k):\n",
    "    cluster_points = X[labels == i]\n",
    "    plt.scatter(\n",
    "        cluster_points[:, 0],\n",
    "        cluster_points[:, 1],\n",
    "        label=f'Cluster {i+1}'\n",
    "    )\n",
    "\n",
    "plt.scatter(\n",
    "    cluster_centers[:, 0],\n",
    "    cluster_centers[:, 1],\n",
    "    marker='x',\n",
    "    color='k',\n",
    "    label='Cluster Centers'\n",
    ")\n",
    "plt.title('K-Means Clustering')\n",
    "plt.xlabel('Feature 1')\n",
    "plt.ylabel('Feature 2')\n",
    "plt.legend()\n",
    "plt.grid(True)\n",
    "plt.show()"
   ]
  },
  {
   "cell_type": "markdown",
   "metadata": {},
   "source": [
    "---\n",
    "### **7. Activation and loss functions**\n",
    "\n",
    "#### ReLU activation\n",
    "\n",
    "Rectified Linear Unit (ReLU) is defined as:\n",
    "\n",
    "$$\n",
    "\\mathrm{ReLU}(x) = \\max(0, x)\n",
    "$$\n",
    "\n",
    "Derivative (used in backpropagation):\n",
    "\n",
    "$$\n",
    "\\frac{d}{dx} \\mathrm{ReLU}(x) =\n",
    "\\begin{cases}\n",
    "1 & \\text{if } x > 0 \\\\\n",
    "0 & \\text{otherwise}\n",
    "\\end{cases}\n",
    "$$\n",
    "\n",
    "#### Softmax activation\n",
    "\n",
    "Used in the output layer for multiclass classification:\n",
    "\n",
    "$$\n",
    "\\mathrm{softmax}(z_j) = \\frac{e^{z_j}}{\\sum_{l=1}^{k} e^{z_l}}\n",
    "$$\n",
    "\n",
    "#### Cross-Entropy loss\n",
    "\n",
    "For true label vector $\\mathbf{y}$ and predicted probabilities $\\hat{\\mathbf{y}}$:\n",
    "\n",
    "$$\n",
    "\\mathcal{L}(\\mathbf{y}, \\hat{\\mathbf{y}}) = -\\sum_{j=1}^k y_j \\log(\\hat{y}_j)\n",
    "$$\n",
    "\n",
    "This loss is averaged over all samples."
   ]
  },
  {
   "cell_type": "code",
   "execution_count": null,
   "metadata": {},
   "outputs": [],
   "source": [
    "# Utility functions (activation, loss)\n",
    "\n",
    "def relu(x):\n",
    "    return np.maximum(0, x)\n",
    "\n",
    "def relu_derivative(x):\n",
    "    return (x > 0).astype(float)\n",
    "\n",
    "def softmax(x):\n",
    "    # Subtract the max value of x to ensure numerical stability\n",
    "    x -= np.max(x, axis=1, keepdims=True)\n",
    "    e_x = np.exp(x)\n",
    "    return e_x / np.sum(e_x, axis=1, keepdims=True)\n",
    "\n",
    "def cross_entropy(y_pred, y_true):\n",
    "    epsilon = 1e-12\n",
    "    y_pred = np.clip(y_pred, epsilon, 1 - epsilon)\n",
    "    return -np.mean(np.sum(y_true * np.log(y_pred), axis=1))"
   ]
  },
  {
   "cell_type": "markdown",
   "metadata": {},
   "source": [
    "---\n",
    "## **6. Building a neural network from scratch**\n",
    "\n",
    "We build a neural network with:\n",
    "- One hidden layer (with ReLU activation)\n",
    "- Output layer (with Softmax activation)\n",
    "- Fully explicit forward and backward calculations\n",
    "\n",
    "Network architecture:\n",
    "- Input: $d$ features\n",
    "- Hidden layer: $h$ units\n",
    "- Output: $k$ units (classes)"
   ]
  },
  {
   "cell_type": "markdown",
   "metadata": {},
   "source": [
    "### **Forward Pass**\n",
    "\n",
    "Given input $\\mathbf{X} \\in \\mathbb{R}^{n \\times d}$:\n",
    "- Hidden pre-activation: $\\mathbf{Z}_1 = \\mathbf{X}\\mathbf{W}_1 + \\mathbf{b}_1$\n",
    "- Hidden activation: $\\mathbf{A}_1 = \\mathrm{ReLU}(\\mathbf{Z}_1)$\n",
    "- Output pre-activation: $\\mathbf{Z}_2 = \\mathbf{A}_1\\mathbf{W}_2 + \\mathbf{b}_2$\n",
    "- Output activation: $\\mathbf{A}_2 = \\mathrm{softmax}(\\mathbf{Z}_2)$"
   ]
  },
  {
   "cell_type": "markdown",
   "metadata": {},
   "source": [
    "### **Backward Pass (Backpropagation)**\n",
    "\n",
    "Gradients (for one batch):\n",
    "\n",
    "- Output error:\n",
    "$$\n",
    "\\delta_2 = \\mathbf{A}_2 - \\mathbf{Y}\n",
    "$$\n",
    "- Output weights/bias gradients:\n",
    "$$\n",
    "\\frac{\\partial L}{\\partial \\mathbf{W}_2} = \\mathbf{A}_1^\\top \\delta_2\n",
    "$$\n",
    "$$\n",
    "\\frac{\\partial L}{\\partial \\mathbf{b}_2} = \\sum \\delta_2\n",
    "$$\n",
    "- Hidden layer error:\n",
    "$$\n",
    "\\delta_1 = (\\delta_2 \\mathbf{W}_2^\\top) \\odot \\mathrm{ReLU}'(\\mathbf{Z}_1)\n",
    "$$\n",
    "- Hidden weights/bias gradients:\n",
    "$$\n",
    "\\frac{\\partial L}{\\partial \\mathbf{W}_1} = \\mathbf{X}^\\top \\delta_1\n",
    "$$\n",
    "$$\n",
    "\\frac{\\partial L}{\\partial \\mathbf{b}_1} = \\sum \\delta_1\n",
    "$$"
   ]
  },
  {
   "cell_type": "markdown",
   "metadata": {},
   "source": [
    "### **Gradient Descent Update**\n",
    "For each parameter $\\theta$:\n",
    "$$\n",
    "\\theta := \\theta - \\eta \\frac{\\partial L}{\\partial \\theta}\n",
    "$$\n",
    "where $\\eta$ is the learning rate."
   ]
  },
  {
   "cell_type": "markdown",
   "metadata": {},
   "source": [
    "### **Initializing weights and biases**\n",
    "\n",
    "- Hidden Layer (ReLU Activation): Use He initialization, which scales random values from a standard normal distribution (mean = 0, variance = 1), so the variance is approximately (2/hidden_units). This helps prevent vanishing or exploding gradients, which can occur with ReLU activations. Biases are initialized to 0 values.\n",
    "\n",
    "- Output Layer (Softmax Activation): Use Xavier initialization, which scales random values from a standard normal distribution (mean = 0, variance = 1), so the variance is approximately (1/hidden_units). This is well-suited for sigmoid-like activations such as softmax. Biases are initialized to 0 values."
   ]
  },
  {
   "cell_type": "code",
   "execution_count": null,
   "metadata": {},
   "outputs": [],
   "source": [
    "\n",
    "# Neural network class from scratch\n",
    "\n",
    "class SimpleNeuralNetwork:\n",
    "    def __init__(self, input_size, hidden_size, output_size, learning_rate=0.01):\n",
    "        self.input_size = input_size\n",
    "        self.hidden_size = hidden_size\n",
    "        self.output_size = output_size\n",
    "        self.learning_rate = learning_rate\n",
    "        \n",
    "        # Initialize weights for the input to hidden layer (He initialization)\n",
    "        self.w1 = np.random.randn(input_size, hidden_size) * np.sqrt(2. / input_size)\n",
    "        self.b1 = np.zeros((1, hidden_size))\n",
    "        # Initialize weights for the hidden to output layer (Xavier initialization)\n",
    "        self.w2 = np.random.randn(hidden_size, output_size) * np.sqrt(1. / hidden_size)\n",
    "        self.b2 = np.zeros((1, output_size))\n",
    "        \n",
    "    def forward(self, X):\n",
    "        self.z1 = X @ self.W1 + self.b1\n",
    "        self.a1 = relu(self.z1)\n",
    "        self.z2 = self.a1 @ self.W2 + self.b2\n",
    "        self.a2 = softmax(self.z2)\n",
    "        return self.a2\n",
    "\n",
    "    def backward(self, X, y_true, y_pred):\n",
    "        m = X.shape[0]\n",
    "        dz2 = y_pred - y_true\n",
    "        dw2 = self.a1.T @ dz2 / m\n",
    "        db2 = np.sum(dz2, axis=0, keepdims=True) / m\n",
    "        \n",
    "        da1 = dz2 @ self.W2.T\n",
    "        dz1 = da1 * relu_derivative(self.z1)\n",
    "        dw1 = X.T @ dz1 / m\n",
    "        db1 = np.sum(dz1, axis=0, keepdims=True) / m\n",
    "\n",
    "        self.w2 -= self.learning_rate * dw2\n",
    "        self.b2 -= self.learning_rate * db2\n",
    "        self.w1 -= self.learning_rate * dw1\n",
    "        self.b1 -= self.learning_rate * db1\n",
    "\n",
    "    def train(self, X, y, epochs=100, batch_size=16):\n",
    "        history = {'loss': [], 'acc': []}\n",
    "        n_samples = X.shape[0]\n",
    "        for epoch in range(epochs):\n",
    "            indices = np.arange(n_samples)\n",
    "            np.random.shuffle(indices)\n",
    "            X_shuffled = X[indices]\n",
    "            y_shuffled = y[indices]\n",
    "            for i in range(0, n_samples, batch_size):\n",
    "                X_batch = X_shuffled[i:i + batch_size]\n",
    "                y_batch = y_shuffled[i:i + batch_size]\n",
    "                y_pred = self.forward(X_batch)\n",
    "                self.backward(X_batch, y_batch, y_pred)\n",
    "            y_train_pred = self.forward(X)\n",
    "            train_loss = cross_entropy(y_train_pred, y)\n",
    "            train_acc = np.mean(np.argmax(y_train_pred, axis=1) == np.argmax(y, axis=1))\n",
    "            history['loss'].append(train_loss)\n",
    "            history['acc'].append(train_acc)\n",
    "            print(f\"Epoch {epoch + 1}/{epochs} | Loss: {train_loss:.4f} | Acc: {train_acc:.4f}\")\n",
    "        return history\n",
    "    \n",
    "    def predict_proba(self, X: np.ndarray) -> np.ndarray:\n",
    "        \"\"\"\n",
    "        Returns the predicted probability distribution over classes for each sample.\n",
    "        \"\"\"\n",
    "        return self.forward(X)\n",
    "\n",
    "    def predict(self, X: np.ndarray) -> np.ndarray:\n",
    "        \"\"\"\n",
    "        Returns the predicted class label (integer) for each sample.\n",
    "        \"\"\"\n",
    "        proba = self.predict_proba(X)\n",
    "        return np.argmax(proba, axis=1)"
   ]
  },
  {
   "cell_type": "markdown",
   "metadata": {},
   "source": [
    "---\n",
    "## **9. Training setup and hyperparameters**\n",
    "\n",
    "Specify the network hyperparameters:\n",
    "- Number of input features ($d = 4$)\n",
    "- Number of hidden layer units ($h$, to be tuned)\n",
    "- Number of output classes ($k = 3$)\n",
    "- Learning rate ($\\eta$)\n",
    "- Number of training epochs\n",
    "- Batch size\n"
   ]
  },
  {
   "cell_type": "code",
   "execution_count": null,
   "metadata": {},
   "outputs": [],
   "source": [
    "# Set hyperparameters\n",
    "input_size = X_train.shape[1]\n",
    "hidden_size = 6\n",
    "output_size = y_train.shape[1]\n",
    "learning_rate = 1e-3\n",
    "epochs = 10\n",
    "batch_size = 16"
   ]
  },
  {
   "cell_type": "markdown",
   "metadata": {},
   "source": [
    "---\n",
    "## **10. Instantiate the neural network**\n",
    "\n",
    "Create neural network model with the parameters defined above.s"
   ]
  },
  {
   "cell_type": "code",
   "execution_count": null,
   "metadata": {},
   "outputs": [],
   "source": [
    "# Instantiate model\n",
    "nn = SimpleNeuralNetwork(\n",
    "    input_size=input_size,\n",
    "    hidden_size=hidden_size,\n",
    "    output_size=output_size,\n",
    "    learning_rate=learning_rate\n",
    ")"
   ]
  },
  {
   "cell_type": "markdown",
   "metadata": {},
   "source": [
    "---\n",
    "## **11. Train the neural network**\n",
    "\n",
    "The model is trained using **mini-batch gradient descent**.  \n",
    "At each epoch, the following steps occur:\n",
    "1. Shuffle the training data\n",
    "2. Split into batches and perform forward/backward passes\n",
    "3. Update weights and biases using gradients\n",
    "4. Compute training loss/accuracy and monitor"
   ]
  },
  {
   "cell_type": "code",
   "execution_count": null,
   "metadata": {},
   "outputs": [],
   "source": [
    "# Train model\n",
    "history = nn.train(\n",
    "    X_train, \n",
    "    y_train, \n",
    "    epochs=epochs, \n",
    "    batch_size=batch_size\n",
    ")"
   ]
  },
  {
   "cell_type": "markdown",
   "metadata": {},
   "source": [
    "---\n",
    "## **12. Visualizing training loss/accuracy**\n",
    "\n",
    "The loss and accuracy curves show how the model learns over time.  \n",
    "- Loss should decrease\n",
    "- Accuracy should increase"
   ]
  },
  {
   "cell_type": "code",
   "execution_count": null,
   "metadata": {},
   "outputs": [],
   "source": [
    "# Plot training loss and accuracy curves\n",
    "plt.figure(figsize=(12, 5))\n",
    "\n",
    "plt.subplot(1, 2, 1)\n",
    "plt.plot(history['loss'], label='Training Loss')\n",
    "plt.title('Training Loss')\n",
    "plt.xlabel('Epoch')\n",
    "plt.ylabel('Loss')\n",
    "plt.legend()\n",
    "\n",
    "plt.subplot(1, 2, 2)\n",
    "plt.plot(history['acc'], label='Training Accuracy')\n",
    "plt.title('Training Accuracy')\n",
    "plt.xlabel('Epoch')\n",
    "plt.ylabel('Accuracy')\n",
    "plt.legend()\n",
    "\n",
    "plt.show()"
   ]
  },
  {
   "cell_type": "markdown",
   "metadata": {},
   "source": [
    "---\n",
    "## **13. Evaluating the model on test data**\n",
    "\n",
    "To measure the final model performance, compute:\n",
    "- Test set **cross-entropy loss**\n",
    "- Test set **classification accuracy**\n",
    "\n",
    "Accuracy is defined as:\n",
    "$$\n",
    "\\mathrm{Accuracy} = \\frac{\\text{Number of correct predictions}}{\\text{Total number of predictions}}\n",
    "$$"
   ]
  },
  {
   "cell_type": "code",
   "execution_count": null,
   "metadata": {},
   "outputs": [],
   "source": [
    "# Evaluate on test data\n",
    "y_test_pred = nn.forward(X_test)\n",
    "test_loss = cross_entropy(y_test_pred, y_test)\n",
    "test_acc = np.mean(np.argmax(y_test_pred, axis=1) == np.argmax(y_test, axis=1))\n",
    "\n",
    "print(f\"Test Loss: {test_loss:.4f}\")\n",
    "print(f\"Test Accuracy: {test_acc:.4f}\")"
   ]
  },
  {
   "cell_type": "markdown",
   "metadata": {},
   "source": [
    "---\n",
    "## **14. Confusion Matrix**\n",
    "\n",
    "A **confusion matrix** shows where the model gets confused between classes.\n",
    "\n",
    "For multiclass classification, the entry at $(i, j)$ is the number of samples from true class $i$ predicted as class $j$."
   ]
  },
  {
   "cell_type": "code",
   "execution_count": null,
   "metadata": {},
   "outputs": [],
   "source": [
    "# Show confusion matrix\n",
    "from sklearn.metrics import confusion_matrix, ConfusionMatrixDisplay\n",
    "\n",
    "y_test_class = np.argmax(y_test, axis=1)\n",
    "y_pred_class = nn.predict(X_test)\n",
    "\n",
    "cm = confusion_matrix(y_test_class, y_pred_class)\n",
    "disp = ConfusionMatrixDisplay(confusion_matrix=cm)\n",
    "disp.plot(cmap=plt.cm.Blues)\n",
    "\n",
    "plt.show()"
   ]
  },
  {
   "cell_type": "markdown",
   "metadata": {},
   "source": [
    "---\n",
    "## **15. Experiment: How does hidden layer size affect performance?**\n",
    "\n",
    "We now sweep the **hidden layer size** and observe its effect on validation accuracy.\n",
    "\n",
    "Try different values of $h$ and plot:\n",
    "- Hidden size vs. validation accuracy\n",
    "\n",
    "This gives insight into the network’s **capacity** and risk of **under/overfitting**."
   ]
  },
  {
   "cell_type": "code",
   "execution_count": null,
   "metadata": {},
   "outputs": [],
   "source": [
    "# Experiment: Tune hidden layer size\n",
    "hidden_sizes = [2, 4, 6, 8, 12]\n",
    "test_accuracies = []\n",
    "\n",
    "for h in hidden_sizes:\n",
    "    nn = SimpleNeuralNetwork(\n",
    "        input_size=input_size,\n",
    "        hidden_size=h,\n",
    "        output_size=output_size,\n",
    "        learning_rate=learning_rate\n",
    "    )\n",
    "    _ = nn.train(X_train, y_train, epochs=epochs, batch_size=batch_size)\n",
    "    y_pred = nn.forward(X_test)\n",
    "    acc = np.mean(np.argmax(y_pred, axis=1) == np.argmax(y_test, axis=1))\n",
    "    test_accuracies.append(acc)"
   ]
  },
  {
   "cell_type": "markdown",
   "metadata": {},
   "source": [
    "---\n",
    "## **16. Results: hidden layer size vs. validation accuracy**\n",
    "\n",
    "We visualize how model capacity affects performance.  \n",
    "- Too small a hidden layer: **underfits**\n",
    "- Too large: risk of **overfitting**\n"
   ]
  },
  {
   "cell_type": "code",
   "execution_count": null,
   "metadata": {},
   "outputs": [],
   "source": [
    "# Plot validation accuracy vs. hidden layer size\n",
    "plt.figure(figsize=(8, 4))\n",
    "plt.plot(hidden_sizes, test_accuracies, marker='o')\n",
    "plt.title(\"Validation Accuracy vs. Hidden Layer Size\")\n",
    "plt.xlabel(\"Hidden Layer Size\")\n",
    "plt.ylabel(\"Validation Accuracy\")\n",
    "\n",
    "plt.show()"
   ]
  },
  {
   "cell_type": "markdown",
   "metadata": {},
   "source": [
    "---\n",
    "## **17. Experiment: Effect of temperature on the Softmax function**\n",
    "\n",
    "In this section, I explore how temperature scaling affects the behavior of the Softmax function in the neural network's output layer.\n",
    "\n",
    "### What Is temperature in Softmax?\n",
    "\n",
    "The standard softmax function is defined as:\n",
    "$$\n",
    "\\mathrm{softmax}(z_j) = \\frac{\\exp(z_j)}{\\sum_{l=1}^k \\exp(z_l)}\n",
    "$$\n",
    "where $\\mathbf{z}$ is the vector of logits (raw output values) for each class, and $k$ is the number of classes.\n",
    "\n",
    "**Temperature scaling** introduces a parameter $T > 0$ to control the \"peakiness\" of the softmax output:\n",
    "$$\n",
    "\\mathrm{softmax}_T(z_j) = \\frac{\\exp(z_j / T)}{\\sum_{l=1}^k \\exp(z_l / T)}\n",
    "$$\n",
    "\n",
    "- When $T = 1$, this reduces to the standard softmax.\n",
    "- When $T < 1$, the output distribution becomes more \"peaked\" (more confident predictions).\n",
    "- When $T > 1$, the distribution becomes more \"uniform\" (less confident, more exploratory).\n",
    "\n",
    "### Why Adjust Temperature?\n",
    "\n",
    "- **Calibrating model confidence:** In some applications (e.g., reinforcement learning, sampling, uncertainty estimation), adjusting $T$ can help control how \"confident\" or \"uncertain\" the network's predictions are.\n",
    "- **Exploration vs. exploitation:** High temperature encourages exploration; low temperature enforces exploitation (choosing the most probable class more deterministically).\n",
    "\n",
    "### In this experiment\n",
    "\n",
    "I vary the temperature parameter $T$ and observe how it changes the output probabilities of the neural network and the predicted class distributions on the Iris test set."
   ]
  },
  {
   "cell_type": "code",
   "execution_count": null,
   "metadata": {},
   "outputs": [],
   "source": [
    "def softmax(x, tau):\n",
    "    # Subtract the max value of x to ensure numerical stability\n",
    "    x -= np.max(x, axis=1, keepdims=True)\n",
    "    e_x = np.exp(x / tau)\n",
    "    return e_x / np.sum(e_x, axis=1, keepdims=True)\n",
    "\n",
    "\n",
    "ZZ = np.array([[19, 20, 18]]).reshape(1, -1)\n",
    "\n",
    "# Standard softmax\n",
    "A_std = softmax(ZZ, 1)[0]\n",
    "\n",
    "# High Temperature softmax\n",
    "A_high = softmax(ZZ, 5)[0]\n",
    "\n",
    "# Low temperature softmax\n",
    "A_low = softmax(ZZ, 0.2)[0]\n",
    "\n",
    "# Plot the results\n",
    "plt.figure(dpi=120)\n",
    "plt.plot(A_std, label='Temperature $T=1$ (Standard Softmax)')\n",
    "plt.plot(A_high, label='High Temperature ($T>1$)')\n",
    "plt.plot(A_low, label='Low Temperature ($T<1$)')\n",
    "plt.title('Effect of Softmax Temperature on Output Probabilities')\n",
    "plt.xlabel('Class Index or Sample Index')\n",
    "plt.ylabel('Predicted Probability')\n",
    "plt.legend()\n",
    "plt.show()"
   ]
  },
  {
   "cell_type": "markdown",
   "metadata": {
    "id": "IyTWSAsqwzAv"
   },
   "source": [
    "---\n",
    "\n",
    "# **DO NOT CONSIDER ANY OF THE CELLS BEYOND THIS POINT**"
   ]
  },
  {
   "cell_type": "code",
   "execution_count": null,
   "metadata": {
    "id": "8wUV1ikYRhGe"
   },
   "outputs": [],
   "source": [
    "\n",
    "\n",
    "def back_propagation(X, y_true, a1, a2, learning_rate):\n",
    "    # Back propagation algorithm to compute the gradients and update weights and biases\n",
    "\n",
    "    global w1, b1, w2, b2\n",
    "\n",
    "    # Previous code attempt - how is this different from below?\n",
    "    #da2 = -np.divide(y_true, a2)\n",
    "    #dz2 = da2 * (a2 * (1 - a2))\n",
    "\n",
    "    # Compute gradients\n",
    "    dz2 = a2 - y_true\n",
    "    dw2 = np.dot(a1.T, dz2)\n",
    "    db2 = np.sum(dz2, axis=0)\n",
    "    da1 = np.dot(dz2, w2.T)\n",
    "    dz1 = da1 * relu_derivative(a1)\n",
    "    dw1 = np.dot(X.T, dz1)\n",
    "    db1 = np.sum(dz1, axis=0)\n",
    "\n",
    "    # Update weights and biases\n",
    "    w1 -= learning_rate * dw1\n",
    "    b1 -= learning_rate * db1\n",
    "    w2 -= learning_rate * dw2\n",
    "    b2 -= learning_rate * db2\n",
    "    return\n",
    "\n",
    "\n",
    "\n",
    "\n",
    "def generate_batches(X, y, batch_size):\n",
    "    num_samples = len(X)\n",
    "    indices = np.arange(num_samples)\n",
    "    np.random.shuffle(indices)  # Shuffle indices to randomize the data\n",
    "    for start_idx in range(0, num_samples, batch_size):\n",
    "        end_idx = min(start_idx + batch_size, num_samples)\n",
    "        batch_indices = indices[start_idx:end_idx]\n",
    "        yield X[batch_indices], y[batch_indices]\n",
    "\n",
    "\n",
    "def calculate_accuracy(y_true, y_pred):\n",
    "    max_indices = np.argmax(y_pred, axis=1)\n",
    "    y_pred_encoded = np.zeros(y_pred.shape, dtype=int)\n",
    "    rows = np.arange(y_pred.shape[0])\n",
    "    y_pred_encoded[rows, max_indices] = 1\n",
    "    accuracy = np.mean(np.all(y_pred_encoded == y_true, axis=1)) * 100\n",
    "    return accuracy\n"
   ]
  },
  {
   "cell_type": "code",
   "execution_count": null,
   "metadata": {
    "id": "d6nJSFxAlis4"
   },
   "outputs": [],
   "source": [
    "\n",
    "\n",
    "    # ------------------------------------------------------------------\n",
    "    # CHECK THESE CALCULATIONS\n",
    "    # ------------------------------------------------------------------\n",
    "    \n",
    "\n",
    "    def _forward(\n",
    "        self, X:\n",
    "        np.ndarray\n",
    "    ) -> Tuple[np.ndarray, np.ndarray, np.ndarray]:\n",
    "        z1 = np.dot(X, self.w1) + self.b1  # (n, hidden)\n",
    "        a1 = _relu(z1)\n",
    "        z2 = np.dot(a1, self.w2) + self.b2  # (n, output)\n",
    "        a2 = _softmax(z2)\n",
    "        return a1, a2, z1\n",
    "\n",
    "    def _backward(\n",
    "        self,\n",
    "        X: np.ndarray,\n",
    "        y: np.ndarray,\n",
    "        a1: np.ndarray,\n",
    "        a2: np.ndarray,\n",
    "        z1: np.ndarray\n",
    "    ) -> None:\n",
    "        n = X.shape[0]\n",
    "        dz2 = (a2 - y) / n        # (n, output)\n",
    "        dw2 = np.dot(a1.T, dz2)   # (hidden, output)\n",
    "        db2 = np.sum(dz2, axis=0)\n",
    "\n",
    "        da1 = np.dot(dz2, self.w2.T)        # (n, hidden)\n",
    "        dz1 = da1 * _relu_derivative(z1)    # (n, hidden)\n",
    "        dw1 = np.dot(X.T, dz1)              # (input, hidden)\n",
    "        db1 = np.sum(dz1, axis=0)\n",
    "\n",
    "        # Previous code attempt - how is this different from above?\n",
    "        #da2 = -np.divide(y_true, a2)\n",
    "        #dz2 = da2 * (a2 * (1 - a2))\n",
    "\n",
    "        # what is this calculation - different from above\n",
    "        #dz2 = a2 - y_true\n"
   ]
  },
  {
   "cell_type": "markdown",
   "metadata": {
    "id": "3wdXq1jHgsUj"
   },
   "source": [
    "NEXT STEPS\n",
    "\n",
    "Comment code and add all the maths calcs\n",
    "Implement Stochastic Gradient Descent (??)\n",
    "Implement early stopping\n",
    "Make the training cycle a function so my main is minimal and can be repeated for different scenarios (maybe parameterize and then can easily compare scenario results.\n",
    "How to 'see' this data as a cluster map? Hypothesis that it is easy to classify - run a logistic regression on it.\n",
    "Implement K-folds - and other methods to make the best of a small dataset.\n",
    "Synthetic data?\n",
    "Implement temperature on the softmax and play with this.\n",
    "Create alternative BP calcs with a2 and z2 rather than just z2 - review the maths.\n",
    "Review detailed YT vids and implement NN as a class.\n",
    "Comment on the sensitivity of the model to hyperparameters.\n",
    "Implement dropout to randomly turn to zero a fraction of nodes - is this to prevent overfitting?\n",
    "\n",
    "If you have a small dataset, consider augmenting your training data with transformations such as rotation, translation, or flipping. Data augmentation can provide the model with more diverse examples to learn from and prevent overfitting.\n",
    "\n",
    "---\n",
    "\n",
    "If your neural network is converging too quickly and then getting stuck at a suboptimal solution, you can try several techniques to slow down the convergence and potentially reach a better solution:\n",
    "\n",
    "Reduce Learning Rate: Decrease the learning rate to slow down the updates to the model parameters. A smaller learning rate allows the model to explore the parameter space more gradually, potentially avoiding getting stuck in local minima.\n",
    "\n",
    "Learning Rate Scheduling: Instead of using a fixed learning rate throughout training, consider using learning rate scheduling techniques such as exponential decay or step decay to gradually reduce the learning rate over epochs. This can help the model to converge more gradually.\n",
    "\n",
    "Early Stopping: Monitor the validation performance of the model during training and stop training when the validation performance stops improving. Early stopping prevents overfitting and allows the model to find a better solution.\n",
    "\n",
    "Batch Normalization: Use batch normalization layers in your neural network. Batch normalization can stabilize training by normalizing the activations of each layer and reducing the internal covariate shift, which can lead to faster convergence and better performance.\n",
    "\n",
    "Regularization: Apply regularization techniques such as L1 or L2 regularization, dropout, or weight decay to prevent overfitting and improve generalization. Regularization can help the model to learn more slowly and generalize better to unseen data.\n",
    "\n",
    "Increase Model Complexity: If your model is too simple, it may struggle to learn complex patterns in the data. Consider increasing the capacity of your model by adding more layers or units to better capture the underlying structure of the data.\n",
    "\n",
    "Data Augmentation: If you have a small dataset, consider augmenting your training data with transformations such as rotation, translation, or flipping. Data augmentation can provide the model with more diverse examples to learn from and prevent overfitting.\n",
    "\n",
    "---\n",
    "\n",
    "Fluctuations in validation accuracy between epochs can occur due to several reasons:\n",
    "\n",
    "Small Validation Set: If your validation set is small, it may not be representative of the overall distribution of the data. As a result, the validation accuracy can fluctuate between epochs due to random variations in the samples selected for validation.\n",
    "\n",
    "High Learning Rate: A high learning rate can cause the model to oscillate around the optimal solution, leading to fluctuations in validation accuracy. Consider reducing the learning rate to stabilize training.\n",
    "\n",
    "Model Instability: If the model architecture is unstable or if the training process is not properly regularized, the model may exhibit oscillations in performance between epochs. Regularization techniques such as dropout, weight decay, or batch normalization can help stabilize training.\n",
    "\n",
    "Early Stopping: If you're using early stopping based on validation performance, fluctuations in validation accuracy can occur as the training is stopped when the validation performance does not improve for a certain number of epochs. This can result in variations in the final validation accuracy depending on when the training is stopped.\n",
    "\n",
    "Data Variability: If the validation set contains highly variable or noisy samples, the model may perform differently on different subsets of the validation data, leading to fluctuations in validation accuracy.\n",
    "\n",
    "Model Complexity: If the model is too complex relative to the size of the training data or if the model capacity is not well matched to the complexity of the task, the model may overfit the training data, leading to fluctuations in validation accuracy.\n",
    "\n",
    "To address fluctuations in validation accuracy, you can try the following:\n",
    "\n",
    "Increase the size of the validation set to improve its representativeness.\n",
    "Experiment with different learning rates and regularization techniques to stabilize training.\n",
    "Use techniques such as early stopping or model averaging to prevent overfitting and improve generalization performance.\n",
    "Ensure that the model architecture and complexity are appropriate for the task and dataset.\n",
    "\n",
    "\n"
   ]
  },
  {
   "cell_type": "markdown",
   "metadata": {
    "id": "NtKf84y-WoeU"
   },
   "source": [
    "Stuff re FastAPI\n",
    "\n",
    "curl -X POST http://127.0.0.1:8000/which_species_is_this \\\n",
    "     -H \"Content-Type: application/json\" \\\n",
    "     -d '{\"sepal_len\": 5.1, \"sepal_wid\": 3.5, \"petal_len\": 1.4, \"petal_wid\": 0.2}'\n",
    "Change 127.0.0.1 to your own ip\n",
    "\n"
   ]
  },
  {
   "cell_type": "markdown",
   "metadata": {
    "id": "u4Mnqw2ysVYc"
   },
   "source": [
    "---\n",
    "\n",
    "# **5. Resources**\n",
    "\n",
    "RMSProp and ADAM\n",
    "https://medium.com/analytics-vidhya/a-complete-guide-to-adam-and-rmsprop-optimizer-75f4502d83be\n",
    "\n",
    "https://towardsdatascience.com/a-visual-explanation-of-gradient-descent-methods-momentum-adagrad-rmsprop-adam-f898b102325c\n",
    "\n",
    "Building makemore Part 4: Becoming a Backprop Ninja\n",
    "https://www.youtube.com/watch?v=q8SA3rM6ckI&list=PLAqhIrjkxbuWI23v9cThsA9GvCAUhRvKZ&index=6&t=939s\n",
    "\n",
    "\n",
    "Matrix multiplication animation\n",
    "https://www.youtube.com/watch?v=1hf_cHNbgCk\n",
    "\n",
    "\n",
    "The Matrix Calculus You Need For Deep Learning\n",
    "https://explained.ai/matrix-calculus/#sec:1.2\n",
    "\n",
    "\n",
    "\n",
    "Softmax derivative\n",
    "https://davidbieber.com/snippets/2020-12-12-derivative-of-softmax-and-the-softmax-cross-entropy-loss/\n",
    "https://www.mldawn.com/the-derivative-of-softmaxz-function-w-r-t-z/\n",
    "\n",
    "```\n",
    "# utility function we will use later when comparing manual gradients to PyTorch gradients\n",
    "def cmp(s, dt, t):\n",
    "  ex = torch.all(dt == t.grad).item()\n",
    "  app = torch.allclose(dt, t.grad)\n",
    "  maxdiff = (dt - t.grad).abs().max().item()\n",
    "  print(f'{s:15s} | exact: {str(ex):5s} | approximate: {str(app):5s} | maxdiff: {maxdiff}')\n",
    "```\n",
    "\n",
    "Deploy ML models with FastAPI, Docker, and Heroku | Tutorial\n",
    "https://www.youtube.com/watch?v=h5wLuVDr0oc\n",
    "\n",
    "Dockerize FastAPI project like a pro - Step-by-step Tutorial\n",
    "https://www.youtube.com/watch?si=ll6mFzr_MblIIsGE&v=CzAyaSolZjY&feature=youtu.be\n",
    "\n",
    "5 Examples of Nonlinear Relationships Between Variables\n",
    "https://www.statology.org/nonlinear-relationship-examples/\n",
    "\n",
    "Setting your username in Git\n",
    "https://docs.github.com/en/get-started/getting-started-with-git/setting-your-username-in-git\n",
    "\n",
    "Getting Git right\n",
    "https://www.atlassian.com/git\n",
    "\n",
    "Why You NEED To Learn FastAPI | Hands On Project\n",
    "https://www.youtube.com/watch?v=cbASjoZZGIw\n",
    "\n",
    "Weight Initialization explained | A way to reduce the vanishing gradient problem  \n",
    "https://www.youtube.com/watch?v=8krd5qKVw-Q\n",
    "\n",
    "\n"
   ]
  }
 ],
 "metadata": {
  "colab": {
   "provenance": []
  },
  "kernelspec": {
   "display_name": "Python 3",
   "name": "python3"
  },
  "language_info": {
   "name": "python"
  }
 },
 "nbformat": 4,
 "nbformat_minor": 0
}
