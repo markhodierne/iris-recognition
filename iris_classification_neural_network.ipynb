{
 "cells": [
  {
   "cell_type": "markdown",
   "metadata": {
    "id": "ls3RZpE-G7uU"
   },
   "source": [
    "# **Species Classification — Iris Flower Dataset**"
   ]
  },
  {
   "cell_type": "markdown",
   "metadata": {
    "id": "MwtN8nxDEXHM"
   },
   "source": [
    "Mark Hodierne  \n",
    "ML Project Portfolio  \n",
    "7th March 2024  \n",
    "https://github.com/markhodierne/iris-recognition  \n",
    "https://www.linkedin.com/in/markhodierne  \n"
   ]
  },
  {
   "cell_type": "markdown",
   "metadata": {
    "id": "eAN7AM_6HQMl"
   },
   "source": [
    "---\n",
    "\n",
    "#### ***Status: PROJECT COMPLETE***\n",
    "\n",
    "1. Neural Network built.\n",
    "1. Optimization - experimented with size of hidden layer, learning rates, number of epochs and batch size.\n",
    "3. Performance of model optimizations analyzed and opportunities for further improvements identified.\n",
    "4. Conclusions complete, including summary of learning.\n",
    "\n"
   ]
  },
  {
   "cell_type": "markdown",
   "metadata": {
    "id": "-GorZCdSHjYa"
   },
   "source": [
    "---\n",
    "\n",
    "### **About this project**\n",
    "\n",
    "The Iris flower data set or Fisher's Iris data set is a multivariate data set used and made famous by the British statistician and biologist Ronald Fisher in his 1936 paper \"The use of multiple measurements in taxonomic problems as an example of linear discriminant analysis.\" (1)\n",
    "\n",
    "The data set consists of 50 samples from each of three species of Iris (Iris setosa, Iris virginica and Iris versicolor). Four features were measured from each sample: the length and the width of the sepals and petals, in centimeters.\n",
    "\n",
    "The goal of this project is to build a simple neural network that will classify samples correctly based on these four features.\n",
    "\n",
    "\n",
    "\n",
    "\n",
    "\n",
    "\n",
    "<u>References:</u>\n",
    "\n",
    "1. R. A. Fisher (1936). \"The use of multiple measurements in taxonomic problems\". Annals of Eugenics. 7 (2): 179-188\n",
    "\n"
   ]
  },
  {
   "cell_type": "markdown",
   "metadata": {
    "id": "ec8hMWXGHqIN"
   },
   "source": [
    "---\n",
    "\n",
    "### **Implementation approach**\n",
    "\n",
    "A simple perceptron model with one hidden layer will be built to achieve this goal. The model will be built from first principles - no Deep Learning Python libraries will be used. The focus will be on understanding exactly how a neural network operates at the lowest level.\n",
    "\n",
    "\n",
    "\n"
   ]
  },
  {
   "cell_type": "markdown",
   "metadata": {
    "id": "Swzd_12cxp6V"
   },
   "source": [
    "![](https://drive.google.com/uc?export=view&id=1mbRPZHaJTkO9djR6l1NY7WBWSUOWPbQL)"
   ]
  },
  {
   "cell_type": "markdown",
   "metadata": {
    "id": "0AKWs_9pxkB-"
   },
   "source": [
    "There are 4 units in the input layer, one for each of the 4 features to be input into the model. Initially, the hidden layer will have 6 units. Testing will refine this number so that the complexity of the resultant model is appropriate for the task. The output layer will have 3 units to indicate which of the 3 species of Iris is predicted based on the input data.\n",
    "\n",
    "Activation functions will be ReLU for the hidden layer and Softmax for the output layer.\n",
    "\n",
    "The shape of the matrices are shown in the diagram below, where n represents the number of samples input to the network.\n",
    "\n",
    "\n"
   ]
  },
  {
   "cell_type": "markdown",
   "metadata": {
    "id": "BipF-enRxwHz"
   },
   "source": [
    "![](https://drive.google.com/uc?export=view&id=1jrJJNIYagcRqipLiY8ehy6fpDE7re0gw)"
   ]
  },
  {
   "cell_type": "markdown",
   "metadata": {
    "id": "aAdpZEcjO7V4"
   },
   "source": [
    "The Iris Dataset is extremely small at 150 samples. A test set will be created using 20% of the data and the remaining 80% will be used for training the model using k-fold cross-validation. This will help mitigate the risk of overfitting to any single train/validation split.\n"
   ]
  },
  {
   "cell_type": "markdown",
   "metadata": {
    "id": "hdwAitKPytOy"
   },
   "source": [
    "\n",
    "Once the model has been trained and optimized, a Docker image will be created containing a FastAPI application and the ML model. The container will be deployed to a bare metal server (with a process manager (like systemd) or container orchestration to keep it running). The FastAPI endpoints will be exposed for prediction requests and logs/metrics will be integrated for observability.\n",
    "\n",
    "Full code is included in the GitHub repository - https://github.com/markhodierne/iris-recognition."
   ]
  },
  {
   "cell_type": "markdown",
   "metadata": {},
   "source": [
    "### **Implementation Approach: Building a Neural Network From First Principles**\n",
    "\n",
    "This project demonstrates how to construct, train, and evaluate a simple **perceptron model with one hidden layer**—all from first principles, **without using any deep learning libraries**.  \n",
    "The primary objective is to provide complete transparency into how neural networks work at the lowest level, exposing all mathematical operations involved in learning and prediction.\n",
    "\n",
    "#### **Network Architecture**\n",
    "\n",
    "- Input Layer: 4 units, one for each feature of the Iris dataset (sepal length, sepal width, petal length, petal width).\n",
    "- Hidden Layer: Starts with 6 units (this is a tunable hyperparameter; later experimentation will find the optimal number for this problem).\n",
    "- Output Layer: 3 units, each representing one of the Iris species.\n",
    "\n",
    "**Activation functions:**\n",
    "\n",
    "- **ReLU** (Rectified Linear Unit) for the hidden layer:  \n",
    "  $\\mathrm{ReLU}(x) = \\max(0, x)$\n",
    "\n",
    "- **Softmax** for the output layer:  \n",
    "  $\\mathrm{softmax}(z_j) = \\dfrac{e^{z_j}}{\\sum_{l=1}^{k} e^{z_l}}$,  \n",
    "  where $k$ is the number of classes.\n",
    "\n",
    "**Activation functions:**\n",
    "\n",
    "- **ReLU (Rectified Linear Unit)** for the hidden layer.\n",
    "- **Softmax** for the output layer.\n",
    "\n",
    "The formulas are:\n",
    "\\[\n",
    "\\mathrm{ReLU}(x) = \\max(0, x)\n",
    "\\]\n",
    "\\[\n",
    "\\mathrm{softmax}(z_j) = \\frac{e^{z_j}}{\\sum_{l=1}^{k} e^{z_l}}\n",
    "\\]\n",
    "where $k$ is the number of classes.\n",
    "\n",
    "\n",
    "\n",
    "#### **Data Flow and Matrix Shapes**\n",
    "\n",
    "If $n$ is the number of samples:\n",
    "\n",
    "- Input matrix: $\\mathbf{X} \\in \\mathbb{R}^{n \\times 4}$\n",
    "- First layer weights: $\\mathbf{W}_1 \\in \\mathbb{R}^{4 \\times h}$\n",
    "- First layer biases: $\\mathbf{b}_1 \\in \\mathbb{R}^{1 \\times h}$\n",
    "- Hidden activations: $\\mathbf{A}_1 \\in \\mathbb{R}^{n \\times h}$\n",
    "- Second layer weights: $\\mathbf{W}_2 \\in \\mathbb{R}^{h \\times 3}$\n",
    "- Second layer biases: $\\mathbf{b}_2 \\in \\mathbb{R}^{1 \\times 3}$\n",
    "- Output probabilities: $\\mathbf{A}_2 \\in \\mathbb{R}^{n \\times 3}$\n",
    "\n",
    "#### **Dataset Characteristics and Evaluation Strategy**\n",
    "\n",
    "- The Iris Dataset is extremely small - containing only 150 samples:\n",
    "  - 80% of the data is used for training (no validation dataset used)\n",
    "  - 20% of the data is reserved as a test set.\n",
    "\n",
    "#### **Deployment Plan**\n",
    "\n",
    "- Once the model is trained and optimized, it can be **packaged in a Docker image** alongside a **FastAPI application** to serve predictions.\n",
    "- The container can be deployed to a production environment (e.g., bare metal server), using a process manager (like `systemd`) or container orchestration for reliability.\n",
    "- **Observability** (logging and metrics) will be integrated for monitoring model usage and health.\n"
   ]
  },
  {
   "cell_type": "markdown",
   "metadata": {},
   "source": [
    "Full code is included in the GitHub repository - https://github.com/markhodierne/iris-recognition."
   ]
  },
  {
   "cell_type": "markdown",
   "metadata": {
    "id": "txw4hkDYH5c9"
   },
   "source": [
    "---\n",
    "\n",
    "# **1. Setup**\n",
    "\n",
    "- Load the Python libraries required for the project\n",
    "- Load the IRIS dataset from scikit-learn as a Pandas Dataframe\n",
    "- Create NumPy matrices of the features data and labels data\n",
    "- Create training and validation datasets\n"
   ]
  },
  {
   "cell_type": "code",
   "execution_count": 1,
   "metadata": {
    "executionInfo": {
     "elapsed": 6580,
     "status": "ok",
     "timestamp": 1747404562593,
     "user": {
      "displayName": "Mark Hodierne",
      "userId": "10268299263793004126"
     },
     "user_tz": -60
    },
    "id": "0Jofp0V2yyVV"
   },
   "outputs": [],
   "source": [
    "# Import libraries\n",
    "import matplotlib.pyplot as plt\n",
    "import numpy as np\n",
    "import pandas as pd\n",
    "\n",
    "from sklearn import datasets\n",
    "from sklearn.cluster import KMeans\n",
    "from sklearn.model_selection import train_test_split\n",
    "\n",
    "# Set global random seed for reproducibility\n",
    "np.random.seed(42)\n"
   ]
  },
  {
   "cell_type": "code",
   "execution_count": null,
   "metadata": {},
   "outputs": [],
   "source": [
    "# Load data and preprocess\n",
    "iris = datasets.load_iris()\n",
    "iris_df = pd.DataFrame(\n",
    "    data=np.column_stack([iris.data, iris.target]),\n",
    "    columns=['sepal_len', 'sepal_wid', 'petal_len', 'petal_wid', 'class']\n",
    ")\n",
    "iris_df.dropna(how=\"all\", inplace=True)\n",
    "\n",
    "# Create a features matrix X with dimensions (150, 4)\n",
    "X = iris_df[['sepal_len', 'sepal_wid', 'petal_len', 'petal_wid']].values\n",
    "\n",
    "# Create a labels matrix y with dimensions (150, 3)\n",
    "y = pd.get_dummies(iris_df['class']).to_numpy()\n",
    "\n",
    "# Create train and test datasets\n",
    "X_train, X_test, y_train, y_test = train_test_split(\n",
    "    X, y, test_size=0.2, stratify=y, random_state=21\n",
    ")\n",
    "\n",
    "# Modify datasets to single sample for testing\n",
    "#X_train = X_train[0].reshape(1, -1)\n",
    "#y_train = y_train[0].reshape(1, -1)\n",
    "\n",
    "# Modify datasets to first 4 samples for testing\n",
    "#X_train = X_train[:5, :]\n",
    "#y_train = y_train[:5, :]"
   ]
  },
  {
   "cell_type": "code",
   "execution_count": 3,
   "metadata": {
    "colab": {
     "base_uri": "https://localhost:8080/"
    },
    "executionInfo": {
     "elapsed": 104,
     "status": "ok",
     "timestamp": 1747404573517,
     "user": {
      "displayName": "Mark Hodierne",
      "userId": "10268299263793004126"
     },
     "user_tz": -60
    },
    "id": "YNk66Itn2eaU",
    "outputId": "967d7ae7-f700-4a35-ebe2-217df9164c12"
   },
   "outputs": [
    {
     "name": "stdout",
     "output_type": "stream",
     "text": [
      "   sepal_len  sepal_wid  petal_len  petal_wid  class\n",
      "0        5.1        3.5        1.4        0.2    0.0\n",
      "1        4.9        3.0        1.4        0.2    0.0\n",
      "2        4.7        3.2        1.3        0.2    0.0\n",
      "3        4.6        3.1        1.5        0.2    0.0\n",
      "4        5.0        3.6        1.4        0.2    0.0\n",
      "<class 'pandas.core.frame.DataFrame'>\n",
      "RangeIndex: 150 entries, 0 to 149\n",
      "Data columns (total 5 columns):\n",
      " #   Column     Non-Null Count  Dtype  \n",
      "---  ------     --------------  -----  \n",
      " 0   sepal_len  150 non-null    float64\n",
      " 1   sepal_wid  150 non-null    float64\n",
      " 2   petal_len  150 non-null    float64\n",
      " 3   petal_wid  150 non-null    float64\n",
      " 4   class      150 non-null    float64\n",
      "dtypes: float64(5)\n",
      "memory usage: 6.0 KB\n",
      "None\n"
     ]
    }
   ],
   "source": [
    "# Data exploration (optional)\n",
    "print(iris_df.head())\n",
    "print(iris_df.info())"
   ]
  },
  {
   "cell_type": "markdown",
   "metadata": {
    "id": "Qjc02R8OM0AS"
   },
   "source": [
    "A k-means analysis shows that one flower species is linearly separable from the other two, but the other two are not linearly separable from each other."
   ]
  },
  {
   "cell_type": "code",
   "execution_count": null,
   "metadata": {
    "colab": {
     "base_uri": "https://localhost:8080/",
     "height": 564
    },
    "id": "ru-JgMRfK8Yj",
    "outputId": "80930c49-7139-4d33-f705-50640aac8a4e"
   },
   "outputs": [
    {
     "data": {
      "image/png": "[encoded data removed]",
      "text/plain": [
       "<Figure size 800x600 with 1 Axes>"
      ]
     },
     "metadata": {},
     "output_type": "display_data"
    }
   ],
   "source": [
    "# K-means clustering for EDA (optional)\n",
    "k = 3\n",
    "kmeans = KMeans(n_clusters=k, random_state=42)\n",
    "kmeans.fit(X)\n",
    "cluster_centers = kmeans.cluster_centers_\n",
    "labels = kmeans.labels_\n",
    "\n",
    "plt.figure(figsize=(8, 6))\n",
    "\n",
    "for i in range(k):\n",
    "    cluster_points = X[labels == i]\n",
    "    plt.scatter(\n",
    "        cluster_points[:, 0],\n",
    "        cluster_points[:, 1],\n",
    "        label=f'Cluster {i+1}'\n",
    "    )\n",
    "\n",
    "plt.scatter(\n",
    "    cluster_centers[:, 0],\n",
    "    cluster_centers[:, 1],\n",
    "    marker='x',\n",
    "    color='k',\n",
    "    label='Cluster Centers'\n",
    ")\n",
    "plt.title('K-Means Clustering')\n",
    "plt.xlabel('Feature 1')\n",
    "plt.ylabel('Feature 2')\n",
    "plt.legend()\n",
    "plt.grid(True)\n",
    "plt.show()"
   ]
  },
  {
   "cell_type": "code",
   "execution_count": null,
   "metadata": {},
   "outputs": [],
   "source": [
    "# Utility functions (activation, loss)\n",
    "\n",
    "def relu(x):\n",
    "    return np.maximum(0, x)\n",
    "\n",
    "def relu_derivative(x):\n",
    "    return (x > 0).astype(float)\n",
    "\n",
    "def softmax(x):\n",
    "    e_x = np.exp(x - np.max(x, axis=1, keepdims=True))\n",
    "    return e_x / e_x.sum(axis=1, keepdims=True)\n",
    "\n",
    "def cross_entropy(y_pred, y_true):\n",
    "    eps = 1e-12\n",
    "    y_pred = np.clip(y_pred, eps, 1 - eps)\n",
    "    return -np.mean(np.sum(y_true * np.log(y_pred), axis=1))"
   ]
  },
  {
   "cell_type": "code",
   "execution_count": null,
   "metadata": {},
   "outputs": [],
   "source": [
    "# Neural network class from scratch\n",
    "\n",
    "class SimpleNeuralNetwork:\n",
    "    def __init__(self, input_size, hidden_size, output_size, learning_rate=0.01):\n",
    "        self.input_size = input_size\n",
    "        self.hidden_size = hidden_size\n",
    "        self.output_size = output_size\n",
    "        self.learning_rate = learning_rate\n",
    "        self.W1 = np.random.randn(input_size, hidden_size) * np.sqrt(2. / input_size)\n",
    "        self.b1 = np.zeros((1, hidden_size))\n",
    "        self.W2 = np.random.randn(hidden_size, output_size) * np.sqrt(2. / hidden_size)\n",
    "        self.b2 = np.zeros((1, output_size))\n",
    "        \n",
    "    def forward(self, X):\n",
    "        self.Z1 = X @ self.W1 + self.b1\n",
    "        self.A1 = relu(self.Z1)\n",
    "        self.Z2 = self.A1 @ self.W2 + self.b2\n",
    "        self.A2 = softmax(self.Z2)\n",
    "        return self.A2\n",
    "\n",
    "    def backward(self, X, y_true, y_pred):\n",
    "        m = X.shape[0]\n",
    "        dZ2 = y_pred - y_true\n",
    "        dW2 = self.A1.T @ dZ2 / m\n",
    "        db2 = np.sum(dZ2, axis=0, keepdims=True) / m\n",
    "        \n",
    "        dA1 = dZ2 @ self.W2.T\n",
    "        dZ1 = dA1 * relu_derivative(self.Z1)\n",
    "        dW1 = X.T @ dZ1 / m\n",
    "        db1 = np.sum(dZ1, axis=0, keepdims=True) / m\n",
    "\n",
    "        self.W2 -= self.learning_rate * dW2\n",
    "        self.b2 -= self.learning_rate * db2\n",
    "        self.W1 -= self.learning_rate * dW1\n",
    "        self.b1 -= self.learning_rate * db1\n",
    "\n",
    "    def train(self, X, y, epochs=100, batch_size=16, X_val=None, y_val=None):\n",
    "        history = {'loss': [], 'val_loss': [], 'acc': [], 'val_acc': []}\n",
    "        n_samples = X.shape[0]\n",
    "        for epoch in range(epochs):\n",
    "            indices = np.arange(n_samples)\n",
    "            np.random.shuffle(indices)\n",
    "            X_shuffled = X[indices]\n",
    "            y_shuffled = y[indices]\n",
    "            for i in range(0, n_samples, batch_size):\n",
    "                X_batch = X_shuffled[i:i + batch_size]\n",
    "                y_batch = y_shuffled[i:i + batch_size]\n",
    "                y_pred = self.forward(X_batch)\n",
    "                self.backward(X_batch, y_batch, y_pred)\n",
    "            y_train_pred = self.forward(X)\n",
    "            train_loss = cross_entropy(y_train_pred, y)\n",
    "            train_acc = np.mean(np.argmax(y_train_pred, axis=1) == np.argmax(y, axis=1))\n",
    "            history['loss'].append(train_loss)\n",
    "            history['acc'].append(train_acc)\n",
    "            if X_val is not None and y_val is not None:\n",
    "                y_val_pred = self.forward(X_val)\n",
    "                val_loss = cross_entropy(y_val_pred, y_val)\n",
    "                val_acc = np.mean(np.argmax(y_val_pred, axis=1) == np.argmax(y_val, axis=1))\n",
    "                history['val_loss'].append(val_loss)\n",
    "                history['val_acc'].append(val_acc)\n",
    "                print(f\"Epoch {epoch + 1}/{epochs} | Loss: {train_loss:.4f} | Acc: {train_acc:.4f} | Val Loss: {val_loss:.4f} | Val Acc: {val_acc:.4f}\")\n",
    "            else:\n",
    "                print(f\"Epoch {epoch + 1}/{epochs} | Loss: {train_loss:.4f} | Acc: {train_acc:.4f}\")\n",
    "        return history\n",
    "\n",
    "    def predict(self, X):\n",
    "        y_pred = self.forward(X)\n",
    "        return np.argmax(y_pred, axis=1)"
   ]
  },
  {
   "cell_type": "code",
   "execution_count": null,
   "metadata": {},
   "outputs": [],
   "source": [
    "# Set hyperparameters\n",
    "input_size = X_train.shape[1]\n",
    "hidden_size = 6\n",
    "output_size = y_train.shape[1]\n",
    "learning_rate = 0.05\n",
    "epochs = 100\n",
    "batch_size = 16"
   ]
  },
  {
   "cell_type": "code",
   "execution_count": null,
   "metadata": {},
   "outputs": [],
   "source": [
    "# Instantiate model\n",
    "nn = SimpleNeuralNetwork(\n",
    "    input_size=input_size,\n",
    "    hidden_size=hidden_size,\n",
    "    output_size=output_size,\n",
    "    learning_rate=learning_rate\n",
    ")"
   ]
  },
  {
   "cell_type": "code",
   "execution_count": null,
   "metadata": {},
   "outputs": [],
   "source": [
    "# Train model\n",
    "history = nn.train(\n",
    "    X_train, \n",
    "    y_train, \n",
    "    epochs=epochs, \n",
    "    batch_size=batch_size, \n",
    "    X_val=X_test, \n",
    "    y_val=y_test\n",
    ")"
   ]
  },
  {
   "cell_type": "code",
   "execution_count": null,
   "metadata": {},
   "outputs": [],
   "source": [
    "# Plot training and validation curves\n",
    "plt.figure(figsize=(14, 5))\n",
    "\n",
    "plt.subplot(1, 2, 1)\n",
    "plt.plot(history['loss'], label='Train Loss')\n",
    "plt.plot(history['val_loss'], label='Val Loss')\n",
    "plt.title('Loss')\n",
    "plt.xlabel('Epoch')\n",
    "plt.ylabel('Loss')\n",
    "plt.legend()\n",
    "\n",
    "plt.subplot(1, 2, 2)\n",
    "plt.plot(history['acc'], label='Train Acc')\n",
    "plt.plot(history['val_acc'], label='Val Acc')\n",
    "plt.title('Accuracy')\n",
    "plt.xlabel('Epoch')\n",
    "plt.ylabel('Accuracy')\n",
    "plt.legend()\n",
    "\n",
    "plt.show()"
   ]
  },
  {
   "cell_type": "code",
   "execution_count": null,
   "metadata": {},
   "outputs": [],
   "source": [
    "# Evaluate on test data\n",
    "y_test_pred = nn.forward(X_test)\n",
    "test_loss = cross_entropy(y_test_pred, y_test)\n",
    "test_acc = np.mean(np.argmax(y_test_pred, axis=1) == np.argmax(y_test, axis=1))\n",
    "\n",
    "print(f\"Test Loss: {test_loss:.4f}\")\n",
    "print(f\"Test Accuracy: {test_acc:.4f}\")"
   ]
  },
  {
   "cell_type": "code",
   "execution_count": null,
   "metadata": {},
   "outputs": [],
   "source": [
    "# Show confusion matrix\n",
    "from sklearn.metrics import confusion_matrix, ConfusionMatrixDisplay\n",
    "\n",
    "y_test_class = np.argmax(y_test, axis=1)\n",
    "y_pred_class = nn.predict(X_test)\n",
    "\n",
    "cm = confusion_matrix(y_test_class, y_pred_class)\n",
    "disp = ConfusionMatrixDisplay(confusion_matrix=cm)\n",
    "disp.plot(cmap=plt.cm.Blues)\n",
    "\n",
    "plt.show()"
   ]
  },
  {
   "cell_type": "code",
   "execution_count": null,
   "metadata": {},
   "outputs": [],
   "source": [
    "# Experiment: Tune hidden layer size\n",
    "hidden_sizes = [2, 4, 6, 8, 12]\n",
    "val_accuracies = []\n",
    "\n",
    "for h in hidden_sizes:\n",
    "    nn = SimpleNeuralNetwork(\n",
    "        input_size=input_size,\n",
    "        hidden_size=h,\n",
    "        output_size=output_size,\n",
    "        learning_rate=learning_rate\n",
    "    )\n",
    "    _ = nn.train(X_train, y_train, epochs=epochs, batch_size=batch_size, X_val=X_test, y_val=y_test)\n",
    "    y_pred = nn.forward(X_test)\n",
    "    acc = np.mean(np.argmax(y_pred, axis=1) == np.argmax(y_test, axis=1))\n",
    "    val_accuracies.append(acc)"
   ]
  },
  {
   "cell_type": "code",
   "execution_count": null,
   "metadata": {},
   "outputs": [],
   "source": [
    "# Plot validation accuracy vs. hidden layer size\n",
    "plt.figure(figsize=(8, 4))\n",
    "plt.plot(hidden_sizes, val_accuracies, marker='o')\n",
    "plt.title(\"Validation Accuracy vs. Hidden Layer Size\")\n",
    "plt.xlabel(\"Hidden Layer Size\")\n",
    "plt.ylabel(\"Validation Accuracy\")\n",
    "\n",
    "plt.show()"
   ]
  },
  {
   "cell_type": "code",
   "execution_count": null,
   "metadata": {},
   "outputs": [],
   "source": []
  },
  {
   "cell_type": "markdown",
   "metadata": {
    "id": "jGsr0wgzVkF1"
   },
   "source": [
    "---\n",
    "\n",
    "# **2. Initializing weights and biases**\n",
    "\n",
    "\n",
    "- Hidden Layer (ReLU Activation): Use He initialization, which scales random values from a standard normal distribution (mean = 0, variance = 1), so the variance is approximately (2/hidden_units). This helps prevent vanishing or exploding gradients, which can occur with ReLU activations. Biases are initialized to 0 values.\n",
    "\n",
    "- Output Layer (Softmax Activation): Use Xavier initialization, which scales random values from a standard normal distribution (mean = 0, variance = 1), so the variance is approximately (1/hidden_units). This is well-suited for sigmoid-like activations such as softmax. Biases are initialized to 0 values."
   ]
  },
  {
   "cell_type": "code",
   "execution_count": null,
   "metadata": {
    "id": "MBARWIyBPDFT"
   },
   "outputs": [],
   "source": [
    "# Number of units in each layer\n",
    "input_units = X.shape[1]\n",
    "hidden_units = 6\n",
    "output_units = y.shape[1]\n",
    "\n",
    "# Initialize weights for the input to hidden layer (using He initialization)\n",
    "w1 = np.random.randn(input_units, hidden_units) * np.sqrt(2 / input_units)\n",
    "\n",
    "# Initialize weights for the input to hidden layer to zeros (used for testing)\n",
    "#w1 = np.zeros((input_units, hidden_units))\n",
    "\n",
    "# Initialize biases for the hidden layer\n",
    "b1 = np.zeros(hidden_units)\n",
    "\n",
    "# Initialize weights for the hidden to output layer (using Xavier initialization)\n",
    "w2 = np.random.randn(hidden_units, output_units) * np.sqrt(1 / hidden_units)\n",
    "\n",
    "# Initialize weights for the hidden to output layer (used for testing)\n",
    "#w2 = np.zeros((hidden_units, output_units))\n",
    "\n",
    "# Initialize biases for the output layer\n",
    "b2 = np.zeros(output_units)\n"
   ]
  },
  {
   "cell_type": "markdown",
   "metadata": {
    "id": "IyTWSAsqwzAv"
   },
   "source": [
    "---\n",
    "\n",
    "# **3. Functions**"
   ]
  },
  {
   "cell_type": "code",
   "execution_count": null,
   "metadata": {
    "id": "8wUV1ikYRhGe"
   },
   "outputs": [],
   "source": [
    "\n",
    "\n",
    "def back_propagation(X, y_true, a1, a2, learning_rate):\n",
    "    # Back propagation algorithm to compute the gradients and update weights and biases\n",
    "\n",
    "    global w1, b1, w2, b2\n",
    "\n",
    "    # Previous code attempt - how is this different from below?\n",
    "    #da2 = -np.divide(y_true, a2)\n",
    "    #dz2 = da2 * (a2 * (1 - a2))\n",
    "\n",
    "    # Compute gradients\n",
    "    dz2 = a2 - y_true\n",
    "    dw2 = np.dot(a1.T, dz2)\n",
    "    db2 = np.sum(dz2, axis=0)\n",
    "    da1 = np.dot(dz2, w2.T)\n",
    "    dz1 = da1 * relu_derivative(a1)\n",
    "    dw1 = np.dot(X.T, dz1)\n",
    "    db1 = np.sum(dz1, axis=0)\n",
    "\n",
    "    # Update weights and biases\n",
    "    w1 -= learning_rate * dw1\n",
    "    b1 -= learning_rate * db1\n",
    "    w2 -= learning_rate * dw2\n",
    "    b2 -= learning_rate * db2\n",
    "    return\n",
    "\n",
    "\n",
    "\n",
    "\n",
    "def generate_batches(X, y, batch_size):\n",
    "    num_samples = len(X)\n",
    "    indices = np.arange(num_samples)\n",
    "    np.random.shuffle(indices)  # Shuffle indices to randomize the data\n",
    "    for start_idx in range(0, num_samples, batch_size):\n",
    "        end_idx = min(start_idx + batch_size, num_samples)\n",
    "        batch_indices = indices[start_idx:end_idx]\n",
    "        yield X[batch_indices], y[batch_indices]\n",
    "\n",
    "\n",
    "def calculate_accuracy(y_true, y_pred):\n",
    "    max_indices = np.argmax(y_pred, axis=1)\n",
    "    y_pred_encoded = np.zeros(y_pred.shape, dtype=int)\n",
    "    rows = np.arange(y_pred.shape[0])\n",
    "    y_pred_encoded[rows, max_indices] = 1\n",
    "    accuracy = np.mean(np.all(y_pred_encoded == y_true, axis=1)) * 100\n",
    "    return accuracy\n"
   ]
  },
  {
   "cell_type": "code",
   "execution_count": null,
   "metadata": {
    "id": "d6nJSFxAlis4"
   },
   "outputs": [],
   "source": [
    "class NeuralNetwork:\n",
    "    \"\"\"\n",
    "    Simple neural network with one hidden layer.\n",
    "    \"\"\"\n",
    "    def __init__(\n",
    "        self,\n",
    "        input_dim: int,\n",
    "        hidden_dim: int,\n",
    "        output_dim: int,\n",
    "        lr: float = 1e-3,\n",
    "        lr_decay: float = 0.0,\n",
    "        seed: int = 21,\n",
    "    ) -> None:\n",
    "        \"\"\"\n",
    "        Parameters\n",
    "        ----------\n",
    "        input_dim : int\n",
    "            Number of features per sample\n",
    "        hidden_dim : int\n",
    "            Neurons in the single hidden (ReLU) layer\n",
    "        output_dim : int\n",
    "            Number of classes (soft-max outputs)\n",
    "        lr : float, default 1e-3\n",
    "            Initial learning-rate for SGD\n",
    "        lr_decay : float, default 0.0\n",
    "            Exponential decay factor applied each step:\n",
    "            lr ← lr / (1 + lr_decay · step)\n",
    "        seed : int, default 21\n",
    "            RNG seed for reproducibility\n",
    "        \"\"\"\n",
    "        # Store hyper-parameters\n",
    "        self.input_dim = input_dim\n",
    "        self.hidden_dim = hidden_dim\n",
    "        self.output_dim = output_dim\n",
    "        self.lr = lr\n",
    "        self.lr_decay = lr_decay\n",
    "\n",
    "        # Reproducible random generator\n",
    "        self.rng = np.random.default_rng(seed)\n",
    "\n",
    "        # -----------------------------------------------------------------\n",
    "        # Parameter initialisation\n",
    "        # -----------------------------------------------------------------\n",
    "        # He (Kaiming) for ReLU layer\n",
    "        self.w1 = self.rng.standard_normal((input_dim, hidden_dim)) * np.sqrt(2.0 / input_dim)\n",
    "        self.b1 = np.zeros(hidden_dim)\n",
    "\n",
    "        # Xavier (Glorot) for softmax layer\n",
    "        self.w2 = self.rng.standard_normal((hidden_dim, output_dim)) * np.sqrt(1.0 / hidden_dim)\n",
    "        self.b2 = np.zeros(output_dim)\n",
    "\n",
    "        # Internal step counter for learning-rate decay\n",
    "        self._step = 0\n",
    "\n",
    "    # ------------------------------------------------------------------\n",
    "    # Forward + backward passes\n",
    "    # ------------------------------------------------------------------\n",
    "    def _relu(x):\n",
    "        return np.maximum(x, 0)\n",
    "\n",
    "    def _relu_derivative(x):\n",
    "        return np.where(x > 0, 1, 0)\n",
    "\n",
    "    def _softmax(x):\n",
    "        # Subtract the max value of x to ensure numerical stability\n",
    "        x -= np.max(x, axis=1, keepdims=True)\n",
    "        exp_scores = np.exp(x)\n",
    "        softmax_scores = exp_scores / np.sum(exp_scores, axis=1, keepdims=True)\n",
    "        return softmax_scores\n",
    "\n",
    "    def cat_cross_entropy(y_true, y_pred):\n",
    "        epsilon = 1e-15\n",
    "        y_pred = np.clip(y_pred, epsilon, 1 - epsilon)\n",
    "        sample_losses = -np.sum(y_true * np.log(y_pred), axis=1)\n",
    "        avg_loss = np.sum(sample_losses) / len(y_true)\n",
    "        return avg_loss\n",
    "\n",
    "    def _forward(\n",
    "        self, X:\n",
    "        np.ndarray\n",
    "    ) -> Tuple[np.ndarray, np.ndarray, np.ndarray]:\n",
    "        z1 = np.dot(X, self.w1) + self.b1  # (n, hidden)\n",
    "        a1 = _relu(z1)\n",
    "        z2 = np.dot(a1, self.w2) + self.b2  # (n, output)\n",
    "        a2 = _softmax(z2)\n",
    "        return a1, a2, z1\n",
    "\n",
    "    def _backward(\n",
    "        self,\n",
    "        X: np.ndarray,\n",
    "        y: np.ndarray,\n",
    "        a1: np.ndarray,\n",
    "        a2: np.ndarray,\n",
    "        z1: np.ndarray\n",
    "    ) -> None:\n",
    "        n = X.shape[0]\n",
    "        dz2 = (a2 - y) / n        # (n, output)\n",
    "        dw2 = np.dot(a1.T, dz2)   # (hidden, output)\n",
    "        db2 = np.sum(dz2, axis=0)\n",
    "\n",
    "        da1 = np.dot(dz2, self.w2.T)        # (n, hidden)\n",
    "        dz1 = da1 * _relu_derivative(z1)    # (n, hidden)\n",
    "        dw1 = np.dot(X.T, dz1)              # (input, hidden)\n",
    "        db1 = np.sum(dz1, axis=0)\n",
    "\n",
    "        # Update weights and biases (SGD)\n",
    "        self.w1 -= self.lr * dw1\n",
    "        self.b1 -= self.lr * db1\n",
    "        self.w2 -= self.lr * dw2\n",
    "        self.b2 -= self.lr * db2\n",
    "\n",
    "\n",
    "        # Previous code attempt - how is this different from above?\n",
    "        #da2 = -np.divide(y_true, a2)\n",
    "        #dz2 = da2 * (a2 * (1 - a2))\n",
    "\n",
    "\n",
    "        # what is this calculation - different from above\n",
    "        #dz2 = a2 - y_true\n",
    "\n",
    "    # ------------------------------------------------------------------\n",
    "    # Public API\n",
    "    # ------------------------------------------------------------------\n",
    "    def fit(\n",
    "        self,\n",
    "        X: np.ndarray,\n",
    "        y: np.ndarray,\n",
    "        *,\n",
    "        epochs: int = 1000,\n",
    "        batch_size: int = 32,\n",
    "        verbose: bool = True\n",
    "    ) -> Dict[str, List[float]]:\n",
    "        \"\"\"Train the network and return a history dictionary.\"\"\"\n",
    "        history = {\"loss\": [], \"acc\": []}\n",
    "        step = 0\n",
    "        for epoch in range(1, epochs + 1):\n",
    "            for X_batch, y_batch in batch_generator(X, y, batch_size, self.rng):\n",
    "                a1, a2, z1 = self._forward(X_batch)\n",
    "                self._backward(X_batch, y_batch, a1, a2, z1)\n",
    "\n",
    "                # Learning‑rate decay (optional exponential)\n",
    "                if self.lr_decay:\n",
    "                    self.lr *= (1.0 / (1.0 + self.lr_decay * step))\n",
    "                step += 1\n",
    "\n",
    "            # End‑of‑epoch metrics\n",
    "            _, preds, _ = self._forward(X)\n",
    "            loss = categorical_cross_entropy(y, preds)\n",
    "            acc = accuracy(y, preds)\n",
    "            history[\"loss\"].append(loss)\n",
    "            history[\"acc\"].append(acc)\n",
    "            if verbose and epoch % max(1, epochs // 10) == 0:\n",
    "                print(f\"epoch {epoch:4d}/{epochs}  loss={loss:.4f}  acc={acc:.3f}\")\n",
    "        return history\n",
    "\n",
    "    def predict_proba(self, X: np.ndarray) -> np.ndarray:\n",
    "        \"\"\"Probability distribution over classes.\"\"\"\n",
    "        _, a2, _ = self._forward(X)\n",
    "        return a2\n",
    "\n",
    "    def predict(self, X: np.ndarray) -> np.ndarray:\n",
    "        \"\"\"Class integer labels.\"\"\"\n",
    "        return np.argmax(self.predict_proba(X), axis=1)\n"
   ]
  },
  {
   "cell_type": "code",
   "execution_count": null,
   "metadata": {
    "id": "iiZ3P88gva2a"
   },
   "outputs": [],
   "source": [
    "if __name__ == \"__main__\":\n",
    "    from sklearn import datasets\n",
    "    from sklearn.model_selection import train_test_split\n",
    "    import matplotlib.pyplot as plt\n",
    "\n",
    "    iris = datasets.load_iris()\n",
    "    X, y_int = iris.data, iris.target\n",
    "    y = np.eye(3)[y_int]  # one‑hot\n",
    "\n",
    "    X_train, X_test, y_train, y_test = train_test_split(X, y, test_size=0.2, stratify=y_int, random_state=42)\n",
    "\n",
    "    net = NeuralNetwork(input_dim=4, hidden_dim=6, output_dim=3, lr=1e-2, lr_decay=1e-4)\n",
    "    history = net.fit(X_train, y_train, epochs=500, batch_size=32)\n",
    "\n",
    "    test_preds = net.predict_proba(X_test)\n",
    "    print(\"Test accuracy:\", accuracy(y_test, test_preds))\n",
    "\n",
    "    # Quick training curves\n",
    "    epochs = range(1, len(history[\"loss\"]) + 1)\n",
    "    plt.figure(figsize=(10, 4))\n",
    "    plt.subplot(1, 2, 1)\n",
    "    plt.plot(epochs, history[\"loss\"])\n",
    "    plt.title(\"Loss\")\n",
    "    plt.subplot(1, 2, 2)\n",
    "    plt.plot(epochs, history[\"acc\"])\n",
    "    plt.title(\"Accuracy\")\n",
    "    plt.tight_layout()\n",
    "    plt.show()\n"
   ]
  },
  {
   "cell_type": "markdown",
   "metadata": {
    "id": "DCTdmtESwOWA"
   },
   "source": [
    "---\n",
    "\n",
    "# **4. Training the model**"
   ]
  },
  {
   "cell_type": "code",
   "execution_count": null,
   "metadata": {
    "id": "zLvFwdFUZeef"
   },
   "outputs": [],
   "source": [
    "# Train the model\n",
    "\n",
    "# Set model hyperparameters\n",
    "num_epochs = 1000\n",
    "epochs = range(1, num_epochs + 1)\n",
    "batch_size = 120\n",
    "\n",
    "# Define the initial learning rate and decay factor\n",
    "decay_factor = 10 # learning rate will reduce by a factor of 10 during training\n",
    "epochs_to_converge = 1000 # estimation of how many epochs it takes to achieve convergence\n",
    "decay_constant = -np.log(decay_factor) / epochs_to_converge\n",
    "initial_lr = 0.0001\n",
    "\n",
    "epoch_train_loss, epoch_train_acc = [], []\n",
    "epoch_val_loss, epoch_val_acc = [], []\n",
    "\n",
    "for epoch in epochs:\n",
    "    batch_train_loss, batch_train_acc = [], []\n",
    "\n",
    "    # Compute the current learning rate based on the decay schedule\n",
    "    lr = initial_lr #* np.exp(decay_constant * epoch)\n",
    "    print(lr)\n",
    "\n",
    "    for X_batch, y_batch in generate_batches(X_train, y_train, batch_size):\n",
    "\n",
    "       # Forward pass\n",
    "        a1, a2 = feedforward(X_batch)\n",
    "\n",
    "        # Compute training loss\n",
    "        train_loss = cat_cross_entropy(y_batch, a2)\n",
    "        batch_train_loss.append(train_loss)\n",
    "\n",
    "        # Compute training accuracy\n",
    "        train_acc = calculate_accuracy(y_batch, a2)\n",
    "        batch_train_acc.append(train_acc)\n",
    "\n",
    "        # Backward pass and update weights and biases\n",
    "        back_propagation(X_batch, y_batch, a1, a2, lr)\n",
    "\n",
    "    # Average training loss and accuracy for the epoch\n",
    "    train_loss = np.mean(batch_train_loss)\n",
    "    train_acc = np.mean(batch_train_acc)\n",
    "\n",
    "    # Append to lists for tracking\n",
    "    epoch_train_loss.append(train_loss)\n",
    "    epoch_train_acc.append(train_acc)\n",
    "\n",
    "    # Check overfitting with validation dataset\n",
    "    a1, a2 = feedforward(X_val)\n",
    "\n",
    "    # Compute validation loss\n",
    "    val_loss = cat_cross_entropy(y_val, a2)\n",
    "    epoch_val_loss.append(val_loss)\n",
    "\n",
    "    # Compute validation accuracy\n",
    "    val_acc = calculate_accuracy(y_val, a2)\n",
    "    epoch_val_acc.append(val_acc)\n",
    "\n",
    "    # Print epoch results\n",
    "    print(f'Epoch {epoch}: Training Loss: {train_loss}, Training Accuracy: {train_acc}, Validation Loss: {val_loss}, Validation Accuracy: {val_acc}')\n",
    "\n"
   ]
  },
  {
   "cell_type": "markdown",
   "metadata": {
    "id": "AFi7qk9TIbAt"
   },
   "source": [
    "---\n",
    "\n",
    "# **4. Generalization performance**\n",
    "\n",
    "- Review the performance of the model by comparing loss and accuracy metrics for the training dataset and the validation dataset; identify optimum number of epochs for training\n"
   ]
  },
  {
   "cell_type": "code",
   "execution_count": null,
   "metadata": {
    "colab": {
     "base_uri": "https://localhost:8080/",
     "height": 927
    },
    "id": "oEMX3fdXEdvX",
    "outputId": "5156785a-deba-48ec-c0c6-b631783e30ba"
   },
   "outputs": [
    {
     "data": {
      "image/png": "[encoded data removed]",
      "text/plain": [
       "<Figure size 640x480 with 1 Axes>"
      ]
     },
     "metadata": {},
     "output_type": "display_data"
    },
    {
     "data": {
      "image/png": "[encoded data removed]",
      "text/plain": [
       "<Figure size 640x480 with 1 Axes>"
      ]
     },
     "metadata": {},
     "output_type": "display_data"
    }
   ],
   "source": [
    "# Plot loss over epochs\n",
    "epochs = np.array(epochs)\n",
    "\n",
    "plt.plot(epochs, epoch_train_loss, label='Training Loss')\n",
    "plt.plot(epochs, epoch_val_loss, label='Validation Loss')\n",
    "plt.title('Training and Validation Loss')\n",
    "plt.xlabel('Epochs')\n",
    "plt.ylabel('Loss')\n",
    "plt.legend()\n",
    "plt.show()\n",
    "\n",
    "# Plot accuracy over epochs\n",
    "plt.plot(epochs, epoch_train_acc, label='Training Accuracy')\n",
    "plt.plot(epochs, epoch_val_acc, label='Validation Accuracy')\n",
    "plt.title('Training and Validation Accuracy')\n",
    "plt.xlabel('Epochs')\n",
    "plt.ylabel('Accuracy')\n",
    "plt.legend()\n",
    "plt.show()\n"
   ]
  },
  {
   "cell_type": "markdown",
   "metadata": {
    "id": "3wdXq1jHgsUj"
   },
   "source": [
    "NEXT STEPS\n",
    "\n",
    "Comment code and add all the maths calcs\n",
    "Implement Stochastic Gradient Descent (??)\n",
    "Implement early stopping\n",
    "Make the training cycle a function so my main is minimal and can be repeated for different scenarios (maybe parameterize and then can easily compare scenario results.\n",
    "How to 'see' this data as a cluster map? Hypothesis that it is easy to classify - run a logistic regression on it.\n",
    "Implement K-folds - and other methods to make the best of a small dataset.\n",
    "Synthetic data?\n",
    "Implement temperature on the softmax and play with this.\n",
    "Create alternative BP calcs with a2 and z2 rather than just z2 - review the maths.\n",
    "Review detailed YT vids and implement NN as a class.\n",
    "Comment on the sensitivity of the model to hyperparameters.\n",
    "Implement dropout to randomly turn to zero a fraction of nodes - is this to prevent overfitting?\n",
    "\n",
    "If you have a small dataset, consider augmenting your training data with transformations such as rotation, translation, or flipping. Data augmentation can provide the model with more diverse examples to learn from and prevent overfitting.\n",
    "\n",
    "---\n",
    "\n",
    "If your neural network is converging too quickly and then getting stuck at a suboptimal solution, you can try several techniques to slow down the convergence and potentially reach a better solution:\n",
    "\n",
    "Reduce Learning Rate: Decrease the learning rate to slow down the updates to the model parameters. A smaller learning rate allows the model to explore the parameter space more gradually, potentially avoiding getting stuck in local minima.\n",
    "\n",
    "Learning Rate Scheduling: Instead of using a fixed learning rate throughout training, consider using learning rate scheduling techniques such as exponential decay or step decay to gradually reduce the learning rate over epochs. This can help the model to converge more gradually.\n",
    "\n",
    "Early Stopping: Monitor the validation performance of the model during training and stop training when the validation performance stops improving. Early stopping prevents overfitting and allows the model to find a better solution.\n",
    "\n",
    "Batch Normalization: Use batch normalization layers in your neural network. Batch normalization can stabilize training by normalizing the activations of each layer and reducing the internal covariate shift, which can lead to faster convergence and better performance.\n",
    "\n",
    "Regularization: Apply regularization techniques such as L1 or L2 regularization, dropout, or weight decay to prevent overfitting and improve generalization. Regularization can help the model to learn more slowly and generalize better to unseen data.\n",
    "\n",
    "Increase Model Complexity: If your model is too simple, it may struggle to learn complex patterns in the data. Consider increasing the capacity of your model by adding more layers or units to better capture the underlying structure of the data.\n",
    "\n",
    "Data Augmentation: If you have a small dataset, consider augmenting your training data with transformations such as rotation, translation, or flipping. Data augmentation can provide the model with more diverse examples to learn from and prevent overfitting.\n",
    "\n",
    "---\n",
    "\n",
    "Fluctuations in validation accuracy between epochs can occur due to several reasons:\n",
    "\n",
    "Small Validation Set: If your validation set is small, it may not be representative of the overall distribution of the data. As a result, the validation accuracy can fluctuate between epochs due to random variations in the samples selected for validation.\n",
    "\n",
    "High Learning Rate: A high learning rate can cause the model to oscillate around the optimal solution, leading to fluctuations in validation accuracy. Consider reducing the learning rate to stabilize training.\n",
    "\n",
    "Model Instability: If the model architecture is unstable or if the training process is not properly regularized, the model may exhibit oscillations in performance between epochs. Regularization techniques such as dropout, weight decay, or batch normalization can help stabilize training.\n",
    "\n",
    "Early Stopping: If you're using early stopping based on validation performance, fluctuations in validation accuracy can occur as the training is stopped when the validation performance does not improve for a certain number of epochs. This can result in variations in the final validation accuracy depending on when the training is stopped.\n",
    "\n",
    "Data Variability: If the validation set contains highly variable or noisy samples, the model may perform differently on different subsets of the validation data, leading to fluctuations in validation accuracy.\n",
    "\n",
    "Model Complexity: If the model is too complex relative to the size of the training data or if the model capacity is not well matched to the complexity of the task, the model may overfit the training data, leading to fluctuations in validation accuracy.\n",
    "\n",
    "To address fluctuations in validation accuracy, you can try the following:\n",
    "\n",
    "Increase the size of the validation set to improve its representativeness.\n",
    "Experiment with different learning rates and regularization techniques to stabilize training.\n",
    "Use techniques such as early stopping or model averaging to prevent overfitting and improve generalization performance.\n",
    "Ensure that the model architecture and complexity are appropriate for the task and dataset.\n",
    "\n",
    "\n"
   ]
  },
  {
   "cell_type": "markdown",
   "metadata": {
    "id": "NtKf84y-WoeU"
   },
   "source": [
    "Stuff re FastAPI\n",
    "\n",
    "curl -X POST http://127.0.0.1:8000/which_species_is_this \\\n",
    "     -H \"Content-Type: application/json\" \\\n",
    "     -d '{\"sepal_len\": 5.1, \"sepal_wid\": 3.5, \"petal_len\": 1.4, \"petal_wid\": 0.2}'\n",
    "Change 127.0.0.1 to your own ip\n",
    "\n"
   ]
  },
  {
   "cell_type": "markdown",
   "metadata": {
    "id": "zlmS0R5smqUK"
   },
   "source": [
    "Try implementing Kfold:\n",
    "\n",
    "```\n",
    "from sklearn.model_selection import KFold\n",
    "from sklearn.metrics import accuracy_score\n",
    "\n",
    "# Assuming X is your feature matrix and y is your target variable\n",
    "kf = KFold(n_splits=5, shuffle=True)  # Define the number of splits (k) and whether to shuffle the data\n",
    "\n",
    "accuracies = []\n",
    "\n",
    "for train_index, val_index in kf.split(X):\n",
    "    X_train, X_val = X[train_index], X[val_index]  # Split features into train and validation sets\n",
    "    y_train, y_val = y[train_index], y[val_index]  # Split target variable into train and validation sets\n",
    "    \n",
    "    # Train your model on X_train and y_train\n",
    "    \n",
    "    # Evaluate your model on the validation set\n",
    "    y_pred = model.predict(X_val)\n",
    "    \n",
    "    # Calculate accuracy and store it\n",
    "    accuracy = accuracy_score(y_val, y_pred)\n",
    "    accuracies.append(accuracy)\n",
    "\n",
    "# Calculate the average accuracy over all folds\n",
    "average_accuracy = sum(accuracies) / len(accuracies)\n",
    "```"
   ]
  },
  {
   "cell_type": "code",
   "execution_count": null,
   "metadata": {
    "id": "wAaFf5TVo4NE"
   },
   "outputs": [],
   "source": [
    "import numpy as np\n",
    "import matplotlib.pyplot as plt"
   ]
  },
  {
   "cell_type": "code",
   "execution_count": null,
   "metadata": {
    "colab": {
     "base_uri": "https://localhost:8080/",
     "height": 563
    },
    "id": "Eckv0nXDmOG4",
    "outputId": "08c9af7c-2fb0-44b6-ed9f-9c01acddb78e"
   },
   "outputs": [
    {
     "data": {
      "image/png": "[encoded data removed]",
      "text/plain": [
       "<Figure size 768x576 with 1 Axes>"
      ]
     },
     "metadata": {},
     "output_type": "display_data"
    }
   ],
   "source": [
    "def softmax(x, tau):\n",
    "    # Subtract the max value of x to ensure numerical stability ???!!!!\n",
    "    x -= np.max(x, axis=1, keepdims=True)\n",
    "    exp_scores = np.exp(x / tau)\n",
    "    softmax_scores = exp_scores / np.sum(exp_scores, axis=1, keepdims=True)\n",
    "    return softmax_scores\n",
    "\n",
    "\n",
    "ZZ = np.array([[19, 20, 18]]).reshape(1, -1)\n",
    "\n",
    "# Standard softmax\n",
    "A_std = softmax(ZZ, 1)[0]\n",
    "\n",
    "# High Temperature softmax\n",
    "A_high = softmax(ZZ, 5)[0]\n",
    "\n",
    "# Low temperature softmax\n",
    "A_low = softmax(ZZ, 0.2)[0]\n",
    "\n",
    "# Plot the results\n",
    "plt.figure(dpi=120)\n",
    "plt.plot(A_std, label='Standard softmax')\n",
    "plt.plot(A_high, label='High temp')\n",
    "plt.plot(A_low, label='Low temp')\n",
    "plt.title('Effect of temperature on softmax calculations')\n",
    "plt.xlabel('X')\n",
    "plt.ylabel('Y')\n",
    "plt.legend()\n",
    "plt.show()\n",
    "\n",
    "\n",
    "\n"
   ]
  },
  {
   "cell_type": "code",
   "execution_count": null,
   "metadata": {
    "id": "5USY_WV8q62C"
   },
   "outputs": [],
   "source": []
  },
  {
   "cell_type": "markdown",
   "metadata": {
    "id": "u4Mnqw2ysVYc"
   },
   "source": [
    "---\n",
    "\n",
    "# **5. Resources**\n",
    "\n",
    "RMSProp and ADAM\n",
    "https://medium.com/analytics-vidhya/a-complete-guide-to-adam-and-rmsprop-optimizer-75f4502d83be\n",
    "\n",
    "https://towardsdatascience.com/a-visual-explanation-of-gradient-descent-methods-momentum-adagrad-rmsprop-adam-f898b102325c\n",
    "\n",
    "Building makemore Part 4: Becoming a Backprop Ninja\n",
    "https://www.youtube.com/watch?v=q8SA3rM6ckI&list=PLAqhIrjkxbuWI23v9cThsA9GvCAUhRvKZ&index=6&t=939s\n",
    "\n",
    "\n",
    "Matrix multiplication animation\n",
    "https://www.youtube.com/watch?v=1hf_cHNbgCk\n",
    "\n",
    "\n",
    "The Matrix Calculus You Need For Deep Learning\n",
    "https://explained.ai/matrix-calculus/#sec:1.2\n",
    "\n",
    "\n",
    "\n",
    "Softmax derivative\n",
    "https://davidbieber.com/snippets/2020-12-12-derivative-of-softmax-and-the-softmax-cross-entropy-loss/\n",
    "https://www.mldawn.com/the-derivative-of-softmaxz-function-w-r-t-z/\n",
    "\n",
    "```\n",
    "# utility function we will use later when comparing manual gradients to PyTorch gradients\n",
    "def cmp(s, dt, t):\n",
    "  ex = torch.all(dt == t.grad).item()\n",
    "  app = torch.allclose(dt, t.grad)\n",
    "  maxdiff = (dt - t.grad).abs().max().item()\n",
    "  print(f'{s:15s} | exact: {str(ex):5s} | approximate: {str(app):5s} | maxdiff: {maxdiff}')\n",
    "```\n",
    "\n",
    "Deploy ML models with FastAPI, Docker, and Heroku | Tutorial\n",
    "https://www.youtube.com/watch?v=h5wLuVDr0oc\n",
    "\n",
    "Dockerize FastAPI project like a pro - Step-by-step Tutorial\n",
    "https://www.youtube.com/watch?si=ll6mFzr_MblIIsGE&v=CzAyaSolZjY&feature=youtu.be\n",
    "\n",
    "5 Examples of Nonlinear Relationships Between Variables\n",
    "https://www.statology.org/nonlinear-relationship-examples/\n",
    "\n",
    "Setting your username in Git\n",
    "https://docs.github.com/en/get-started/getting-started-with-git/setting-your-username-in-git\n",
    "\n",
    "Getting Git right\n",
    "https://www.atlassian.com/git\n",
    "\n",
    "Why You NEED To Learn FastAPI | Hands On Project\n",
    "https://www.youtube.com/watch?v=cbASjoZZGIw\n",
    "\n",
    "Weight Initialization explained | A way to reduce the vanishing gradient problem  \n",
    "https://www.youtube.com/watch?v=8krd5qKVw-Q\n",
    "\n",
    "\n"
   ]
  }
 ],
 "metadata": {
  "colab": {
   "provenance": []
  },
  "kernelspec": {
   "display_name": "Python 3",
   "name": "python3"
  },
  "language_info": {
   "name": "python"
  }
 },
 "nbformat": 4,
 "nbformat_minor": 0
}
